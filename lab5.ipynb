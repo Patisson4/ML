{
 "nbformat": 4,
 "nbformat_minor": 0,
 "metadata": {
  "kernelspec": {
   "display_name": "Python 3",
   "language": "python",
   "name": "python3"
  },
  "language_info": {
   "codemirror_mode": {
    "name": "ipython",
    "version": 3
   },
   "file_extension": ".py",
   "mimetype": "text/x-python",
   "name": "python",
   "nbconvert_exporter": "python",
   "pygments_lexer": "ipython3",
   "version": "3.5.2"
  },
  "colab": {
   "provenance": [],
   "collapsed_sections": [
    "Zpq4QOU5Wg-H",
    "i_7DyyXRWg-K",
    "_JewKs4XU-so",
    "5yiLk1P_xYQ2",
    "VlWxW3e9Wg-m",
    "D39SSh0zWg-r",
    "rhVrgkSaWg_K",
    "XsRf9T_SWg_U",
    "ylKZG2MwWg_f",
    "9hedBdcYWhAH",
    "JrqW55jgWhAR",
    "5QYTwyMtWhAZ",
    "DbJrUpARWhAd",
    "MI18l-l9WhAk",
    "1wrEGqBSWhAr",
    "gStgBJy2WhAx"
   ],
   "include_colab_link": true
  }
 },
 "cells": [
  {
   "cell_type": "markdown",
   "metadata": {
    "id": "view-in-github",
    "colab_type": "text"
   },
   "source": [
    "<a href=\"https://colab.research.google.com/github/Patisson4/ML/blob/lab-5/lab5.ipynb\" target=\"_parent\"><img src=\"https://colab.research.google.com/assets/colab-badge.svg\" alt=\"Open In Colab\"/></a>"
   ]
  },
  {
   "cell_type": "markdown",
   "metadata": {
    "id": "UHX9p5jfTySS"
   },
   "source": [
    "## Задание 5.1"
   ]
  },
  {
   "cell_type": "markdown",
   "metadata": {
    "id": "0EnHNZtbXlH0"
   },
   "source": [
    "Набор данных тут: https://github.com/sismetanin/rureviews, также есть в папке [Data](https://drive.google.com/drive/folders/1YAMe7MiTxA-RSSd8Ex2p-L0Dspe6Gs4L). Те, кто предпочитает работать с английским языком, могут использовать набор данных `sms_spam`."
   ]
  },
  {
   "cell_type": "code",
   "execution_count": 8,
   "outputs": [
    {
     "name": "stderr",
     "output_type": "stream",
     "text": [
      "[nltk_data] Downloading package stopwords to\n",
      "[nltk_data]     C:\\Users\\mdpol\\AppData\\Roaming\\nltk_data...\n",
      "[nltk_data]   Package stopwords is already up-to-date!\n",
      "[nltk_data] Downloading package punkt to\n",
      "[nltk_data]     C:\\Users\\mdpol\\AppData\\Roaming\\nltk_data...\n",
      "[nltk_data]   Package punkt is already up-to-date!\n"
     ]
    },
    {
     "data": {
      "text/plain": "True"
     },
     "execution_count": 8,
     "metadata": {},
     "output_type": "execute_result"
    }
   ],
   "source": [
    "import pandas as pd\n",
    "import nltk\n",
    "\n",
    "data = pd.read_csv(\n",
    "    'https://github.com/sismetanin/rureviews/blob/master/women-clothing-accessories.3-class.balanced.csv?raw=true',\n",
    "    sep='\\t')\n",
    "\n",
    "nltk.download('stopwords')\n",
    "nltk.download('punkt')"
   ],
   "metadata": {
    "collapsed": false
   }
  },
  {
   "cell_type": "code",
   "execution_count": 30,
   "outputs": [],
   "source": [
    "import string\n",
    "import numpy as np\n",
    "from time import perf_counter\n",
    "from sklearn.metrics import classification_report\n",
    "from sklearn.model_selection import train_test_split\n",
    "from sklearn.tree import DecisionTreeClassifier  # можно заменить на другой классификатор\n",
    "from sklearn.naive_bayes import MultinomialNB  # наивный байесовский классификатор\n",
    "from sklearn.feature_extraction.text import CountVectorizer\n",
    "from sklearn.feature_extraction.text import TfidfVectorizer\n",
    "from nltk import ngrams\n",
    "from nltk.corpus import stopwords\n",
    "from nltk.tokenize import word_tokenize\n",
    "from pymorphy2 import MorphAnalyzer"
   ],
   "metadata": {
    "collapsed": false
   }
  },
  {
   "cell_type": "code",
   "execution_count": null,
   "outputs": [],
   "source": [
    "data['format'] = data['review']"
   ],
   "metadata": {
    "collapsed": false
   }
  },
  {
   "cell_type": "markdown",
   "metadata": {
    "id": "bJox-LoonoPx"
   },
   "source": [
    "Применим полученные навыки и решим задачу анализа тональности отзывов. \n",
    "\n",
    "Нужно повторить весь пайплайн от сырых текстов до получения обученной модели.\n",
    "\n",
    "Обязательные шаги предобработки:\n",
    "1. токенизация\n",
    "2. приведение к нижнему регистру\n",
    "3. удаление стоп-слов\n",
    "4. лемматизация\n",
    "5. векторизация (с настройкой гиперпараметров)\n",
    "6. построение модели\n",
    "7. оценка качества модели\n",
    "\n",
    "Обязательно использование векторайзеров:\n",
    "1. мешок n-грамм (диапазон для n подбирайте самостоятельно, запрещено использовать только униграммы).\n",
    "2. tf-idf ((диапазон для n подбирайте самостоятельно, также нужно подбирать гиперпараметры max_df, min_df, max_features)\n",
    "3. символьные n-граммы (диапазон для n подбирайте самостоятельно)\n",
    "\n",
    "В качестве классификатора нужно использовать наивный байесовский классификатор. \n",
    "\n",
    "Для сравнения векторайзеров между собой используйте precision, recall, f1-score и accuracy. Для этого сформируйте датафрейм, в котором в строках будут разные векторайзеры, а в столбцах разные метрики качества, а в  ячейках будут значения этих метрик для соответсвующих векторайзеров."
   ]
  },
  {
   "cell_type": "code",
   "execution_count": 14,
   "outputs": [
    {
     "name": "stdout",
     "output_type": "stream",
     "text": [
      "                                              review sentiment  \\\n",
      "0  качество плохое пошив ужасный (горловина напер...  negative   \n",
      "1  Товар отдали другому человеку, я не получила п...  negative   \n",
      "2  Ужасная синтетика! Тонкая, ничего общего с пре...  negative   \n",
      "3  товар не пришел, продавец продлил защиту без м...  negative   \n",
      "4      Кофточка голая синтетика, носить не возможно.  negative   \n",
      "5                              Очень глубокие проймы  negative   \n",
      "6  Я недовольна заказом.Я вот одного не понимаю п...  negative   \n",
      "7  заказала размер s на от 64,об 94,начнем с того...  negative   \n",
      "8  Заказ я сделала в июле. С тех пор посылка отсл...  negative   \n",
      "9                           Ужасное качество товара!  negative   \n",
      "\n",
      "                                              format  \n",
      "0  [качество, плохой, пошив, ужасный, горловина, ...  \n",
      "1  [товар, отдать, другой, человек, я, не, получи...  \n",
      "2  [ужасный, синтетик, тонкий, ничего, общий, с, ...  \n",
      "3  [товар, не, прийти, продавец, продлить, защита...  \n",
      "4  [кофточка, голый, синтетик, носить, не, возможно]  \n",
      "5                          [очень, глубокий, пройма]  \n",
      "6  [я, недовольный, заказомить, вот, один, не, по...  \n",
      "7  [заказать, размер, s, на, от, 64об, 94начать, ...  \n",
      "8  [заказ, я, сделать, в, июль, с, тот, пора, пос...  \n",
      "9                         [ужасный, качество, товар]  \n",
      "Performed in 1185.6591756999987\n"
     ]
    }
   ],
   "source": [
    "start = perf_counter()\n",
    "\n",
    "analyzer = MorphAnalyzer()\n",
    "\n",
    "for i in range(len(data)):\n",
    "    for pun in string.punctuation:\n",
    "        data.format[i] = data.format[i].replace(pun, \"\")\n",
    "    tokens = [analyzer.parse(word.lower())[0].normal_form for word in word_tokenize(data.format[i])]\n",
    "    data.format[i] = \" \".join(tokens)\n",
    "\n",
    "print(data.head(10))\n",
    "print(f'Performed in {perf_counter() - start}')"
   ],
   "metadata": {
    "collapsed": false
   }
  },
  {
   "cell_type": "code",
   "execution_count": 32,
   "outputs": [],
   "source": [
    "results = []\n",
    "X_train, X_test, y_train, y_test = train_test_split(data.format, data.sentiment, train_size=0.7)"
   ],
   "metadata": {
    "collapsed": false
   }
  },
  {
   "cell_type": "code",
   "execution_count": 29,
   "outputs": [
    {
     "name": "stdout",
     "output_type": "stream",
     "text": [
      "ngram_range: (2, 2) analyzer: word\n",
      "              precision    recall  f1-score   support\n",
      "\n",
      "    neautral       0.59      0.51      0.55      9030\n",
      "    negative       0.70      0.65      0.67      9080\n",
      "    positive       0.71      0.86      0.78      8891\n",
      "\n",
      "    accuracy                           0.67     27001\n",
      "   macro avg       0.67      0.67      0.67     27001\n",
      "weighted avg       0.67      0.67      0.67     27001\n",
      "\n",
      "Performed in 6.21522479999112\n",
      "ngram_range: (2, 3) analyzer: word\n",
      "              precision    recall  f1-score   support\n",
      "\n",
      "    neautral       0.59      0.49      0.54      9030\n",
      "    negative       0.69      0.65      0.67      9080\n",
      "    positive       0.70      0.86      0.77      8891\n",
      "\n",
      "    accuracy                           0.67     27001\n",
      "   macro avg       0.66      0.67      0.66     27001\n",
      "weighted avg       0.66      0.67      0.66     27001\n",
      "\n",
      "Performed in 9.461641200003214\n",
      "ngram_range: (2, 4) analyzer: word\n",
      "              precision    recall  f1-score   support\n",
      "\n",
      "    neautral       0.59      0.49      0.54      9030\n",
      "    negative       0.69      0.66      0.67      9080\n",
      "    positive       0.70      0.86      0.77      8891\n",
      "\n",
      "    accuracy                           0.67     27001\n",
      "   macro avg       0.66      0.67      0.66     27001\n",
      "weighted avg       0.66      0.67      0.66     27001\n",
      "\n",
      "Performed in 13.064574300005916\n",
      "ngram_range: (2, 5) analyzer: word\n",
      "              precision    recall  f1-score   support\n",
      "\n",
      "    neautral       0.59      0.49      0.53      9030\n",
      "    negative       0.69      0.66      0.67      9080\n",
      "    positive       0.70      0.86      0.77      8891\n",
      "\n",
      "    accuracy                           0.67     27001\n",
      "   macro avg       0.66      0.67      0.66     27001\n",
      "weighted avg       0.66      0.67      0.66     27001\n",
      "\n",
      "Performed in 17.91725650000444\n",
      "ngram_range: (2, 6) analyzer: word\n",
      "              precision    recall  f1-score   support\n",
      "\n",
      "    neautral       0.59      0.49      0.53      9030\n",
      "    negative       0.69      0.66      0.67      9080\n",
      "    positive       0.70      0.86      0.77      8891\n",
      "\n",
      "    accuracy                           0.67     27001\n",
      "   macro avg       0.66      0.67      0.66     27001\n",
      "weighted avg       0.66      0.67      0.66     27001\n",
      "\n",
      "Performed in 22.74028339999495\n",
      "ngram_range: (2, 7) analyzer: word\n",
      "              precision    recall  f1-score   support\n",
      "\n",
      "    neautral       0.59      0.49      0.53      9030\n",
      "    negative       0.69      0.66      0.67      9080\n",
      "    positive       0.70      0.86      0.77      8891\n",
      "\n",
      "    accuracy                           0.67     27001\n",
      "   macro avg       0.66      0.67      0.66     27001\n",
      "weighted avg       0.66      0.67      0.66     27001\n",
      "\n",
      "Performed in 24.295311499998206\n",
      "ngram_range: (3, 3) analyzer: word\n",
      "              precision    recall  f1-score   support\n",
      "\n",
      "    neautral       0.52      0.28      0.36      9030\n",
      "    negative       0.67      0.49      0.57      9080\n",
      "    positive       0.49      0.86      0.63      8891\n",
      "\n",
      "    accuracy                           0.54     27001\n",
      "   macro avg       0.56      0.54      0.52     27001\n",
      "weighted avg       0.56      0.54      0.52     27001\n",
      "\n",
      "Performed in 5.833576699995319\n",
      "ngram_range: (3, 4) analyzer: word\n",
      "              precision    recall  f1-score   support\n",
      "\n",
      "    neautral       0.51      0.27      0.36      9030\n",
      "    negative       0.67      0.49      0.57      9080\n",
      "    positive       0.49      0.86      0.63      8891\n",
      "\n",
      "    accuracy                           0.54     27001\n",
      "   macro avg       0.56      0.54      0.52     27001\n",
      "weighted avg       0.56      0.54      0.52     27001\n",
      "\n",
      "Performed in 9.804358100009267\n",
      "ngram_range: (3, 5) analyzer: word\n",
      "              precision    recall  f1-score   support\n",
      "\n",
      "    neautral       0.51      0.27      0.35      9030\n",
      "    negative       0.67      0.49      0.57      9080\n",
      "    positive       0.49      0.86      0.63      8891\n",
      "\n",
      "    accuracy                           0.54     27001\n",
      "   macro avg       0.56      0.54      0.52     27001\n",
      "weighted avg       0.56      0.54      0.52     27001\n",
      "\n",
      "Performed in 14.585072300003958\n",
      "ngram_range: (3, 6) analyzer: word\n",
      "              precision    recall  f1-score   support\n",
      "\n",
      "    neautral       0.51      0.27      0.35      9030\n",
      "    negative       0.67      0.49      0.57      9080\n",
      "    positive       0.49      0.86      0.63      8891\n",
      "\n",
      "    accuracy                           0.54     27001\n",
      "   macro avg       0.56      0.54      0.52     27001\n",
      "weighted avg       0.56      0.54      0.52     27001\n",
      "\n",
      "Performed in 20.631795399996918\n",
      "ngram_range: (3, 7) analyzer: word\n",
      "              precision    recall  f1-score   support\n",
      "\n",
      "    neautral       0.51      0.27      0.35      9030\n",
      "    negative       0.67      0.49      0.57      9080\n",
      "    positive       0.49      0.86      0.63      8891\n",
      "\n",
      "    accuracy                           0.54     27001\n",
      "   macro avg       0.56      0.54      0.52     27001\n",
      "weighted avg       0.56      0.54      0.52     27001\n",
      "\n",
      "Performed in 22.725615500006825\n",
      "ngram_range: (4, 4) analyzer: word\n",
      "              precision    recall  f1-score   support\n",
      "\n",
      "    neautral       0.45      0.09      0.15      9030\n",
      "    negative       0.69      0.26      0.38      9080\n",
      "    positive       0.38      0.93      0.54      8891\n",
      "\n",
      "    accuracy                           0.42     27001\n",
      "   macro avg       0.51      0.43      0.36     27001\n",
      "weighted avg       0.51      0.42      0.36     27001\n",
      "\n",
      "Performed in 6.0573320999974385\n",
      "ngram_range: (4, 5) analyzer: word\n",
      "              precision    recall  f1-score   support\n",
      "\n",
      "    neautral       0.44      0.09      0.15      9030\n",
      "    negative       0.69      0.26      0.38      9080\n",
      "    positive       0.38      0.93      0.54      8891\n",
      "\n",
      "    accuracy                           0.42     27001\n",
      "   macro avg       0.50      0.43      0.36     27001\n",
      "weighted avg       0.50      0.42      0.35     27001\n",
      "\n",
      "Performed in 10.086309099991922\n",
      "ngram_range: (4, 6) analyzer: word\n",
      "              precision    recall  f1-score   support\n",
      "\n",
      "    neautral       0.44      0.09      0.15      9030\n",
      "    negative       0.69      0.26      0.37      9080\n",
      "    positive       0.38      0.93      0.54      8891\n",
      "\n",
      "    accuracy                           0.42     27001\n",
      "   macro avg       0.50      0.43      0.36     27001\n",
      "weighted avg       0.50      0.42      0.35     27001\n",
      "\n",
      "Performed in 18.097512099993764\n",
      "ngram_range: (4, 7) analyzer: word\n",
      "              precision    recall  f1-score   support\n",
      "\n",
      "    neautral       0.44      0.09      0.15      9030\n",
      "    negative       0.69      0.26      0.37      9080\n",
      "    positive       0.38      0.93      0.54      8891\n",
      "\n",
      "    accuracy                           0.42     27001\n",
      "   macro avg       0.50      0.43      0.36     27001\n",
      "weighted avg       0.50      0.42      0.35     27001\n",
      "\n",
      "Performed in 16.783422099993913\n",
      "ngram_range: (5, 5) analyzer: word\n",
      "              precision    recall  f1-score   support\n",
      "\n",
      "    neautral       0.39      0.02      0.04      9030\n",
      "    negative       0.75      0.09      0.16      9080\n",
      "    positive       0.34      0.98      0.51      8891\n",
      "\n",
      "    accuracy                           0.36     27001\n",
      "   macro avg       0.49      0.37      0.24     27001\n",
      "weighted avg       0.50      0.36      0.24     27001\n",
      "\n",
      "Performed in 5.341156399997999\n",
      "ngram_range: (5, 6) analyzer: word\n",
      "              precision    recall  f1-score   support\n",
      "\n",
      "    neautral       0.39      0.02      0.04      9030\n",
      "    negative       0.75      0.09      0.16      9080\n",
      "    positive       0.34      0.98      0.51      8891\n",
      "\n",
      "    accuracy                           0.36     27001\n",
      "   macro avg       0.49      0.37      0.24     27001\n",
      "weighted avg       0.49      0.36      0.24     27001\n",
      "\n",
      "Performed in 8.446745699999155\n",
      "ngram_range: (5, 7) analyzer: word\n",
      "              precision    recall  f1-score   support\n",
      "\n",
      "    neautral       0.39      0.02      0.04      9030\n",
      "    negative       0.75      0.09      0.16      9080\n",
      "    positive       0.34      0.98      0.51      8891\n",
      "\n",
      "    accuracy                           0.36     27001\n",
      "   macro avg       0.49      0.37      0.24     27001\n",
      "weighted avg       0.49      0.36      0.24     27001\n",
      "\n",
      "Performed in 15.342891000007512\n",
      "ngram_range: (6, 6) analyzer: word\n",
      "              precision    recall  f1-score   support\n",
      "\n",
      "    neautral       0.48      0.01      0.01      9030\n",
      "    negative       0.84      0.03      0.06      9080\n",
      "    positive       0.33      1.00      0.50      8891\n",
      "\n",
      "    accuracy                           0.34     27001\n",
      "   macro avg       0.55      0.34      0.19     27001\n",
      "weighted avg       0.55      0.34      0.19     27001\n",
      "\n",
      "Performed in 6.504271099998732\n",
      "ngram_range: (6, 7) analyzer: word\n",
      "              precision    recall  f1-score   support\n",
      "\n",
      "    neautral       0.48      0.01      0.01      9030\n",
      "    negative       0.84      0.03      0.06      9080\n",
      "    positive       0.33      1.00      0.50      8891\n",
      "\n",
      "    accuracy                           0.34     27001\n",
      "   macro avg       0.55      0.34      0.19     27001\n",
      "weighted avg       0.55      0.34      0.19     27001\n",
      "\n",
      "Performed in 9.013407799997367\n",
      "ngram_range: (7, 7) analyzer: word\n",
      "              precision    recall  f1-score   support\n",
      "\n",
      "    neautral       0.67      0.00      0.01      9030\n",
      "    negative       0.87      0.01      0.02      9080\n",
      "    positive       0.33      1.00      0.50      8891\n",
      "\n",
      "    accuracy                           0.33     27001\n",
      "   macro avg       0.62      0.34      0.18     27001\n",
      "weighted avg       0.62      0.33      0.17     27001\n",
      "\n",
      "Performed in 4.810981100003119\n"
     ]
    }
   ],
   "source": [
    "MIN_NGRAM = 2\n",
    "MAX_NGRAM = 8\n",
    "\n",
    "for min_n in range(MIN_NGRAM, MAX_NGRAM):\n",
    "    for max_n in range(min_n, MAX_NGRAM):\n",
    "        start = perf_counter()\n",
    "\n",
    "        count_vectorizer = CountVectorizer(ngram_range=(min_n, max_n), stop_words=stopwords.words('russian'), analyzer='word')\n",
    "\n",
    "        classifier = MultinomialNB()\n",
    "        classifier.fit(count_vectorizer.fit_transform(X_train), y_train)\n",
    "\n",
    "        predicted = classifier.predict(count_vectorizer.transform(X_test))\n",
    "\n",
    "        results.append([classification_report(y_test, predicted, output_dict=True), count_vectorizer])\n",
    "\n",
    "        print(\"ngram_range:\", str(count_vectorizer.ngram_range), \"analyzer:\", str(count_vectorizer.analyzer), classification_report(y_test, predicted, output_dict=False))\n",
    "        print(f'Performed in {perf_counter() - start}')"
   ],
   "metadata": {
    "collapsed": false
   }
  },
  {
   "cell_type": "code",
   "execution_count": 33,
   "outputs": [
    {
     "name": "stdout",
     "output_type": "stream",
     "text": [
      "ngram_range: (2, 2) analyzer: word {'neautral': {'precision': 0.5537627297976458, 'recall': 0.4636766334440753, 'f1-score': 0.5047314809233922, 'support': 9030}, 'negative': {'precision': 0.7195517546446476, 'recall': 0.5374449339207048, 'f1-score': 0.6153070230740134, 'support': 9080}, 'positive': {'precision': 0.5930636751461527, 'recall': 0.8443369699696323, 'f1-score': 0.6967376676411899, 'support': 8891}, 'accuracy': 0.6138291174400948, 'macro avg': {'precision': 0.6221260531961487, 'recall': 0.6151528457781374, 'f1-score': 0.6055920572128652, 'support': 27001}, 'weighted avg': {'precision': 0.6224560763664525, 'recall': 0.6138291174400948, 'f1-score': 0.605140833496837, 'support': 27001}}\n",
      "Performed in 4.777939999999944\n",
      "ngram_range: (2, 2) analyzer: word {'neautral': {'precision': 0.5706508589402371, 'recall': 0.5223698781838316, 'f1-score': 0.5454440333024977, 'support': 9030}, 'negative': {'precision': 0.7175479135517194, 'recall': 0.5813876651982379, 'f1-score': 0.6423313256677009, 'support': 9080}, 'positive': {'precision': 0.6602214800492178, 'recall': 0.8448993364076032, 'f1-score': 0.741230450441561, 'support': 8891}, 'accuracy': 0.6484204288730047, 'macro avg': {'precision': 0.6494734175137248, 'recall': 0.6495522932632242, 'f1-score': 0.6430019364705866, 'support': 27001}, 'weighted avg': {'precision': 0.649544146157459, 'recall': 0.6484204288730047, 'f1-score': 0.6424950184311765, 'support': 27001}}\n",
      "Performed in 4.891445000001113\n",
      "ngram_range: (2, 2) analyzer: word {'neautral': {'precision': 0.5835935623348547, 'recall': 0.5380952380952381, 'f1-score': 0.5599216409310901, 'support': 9030}, 'negative': {'precision': 0.7158652609925431, 'recall': 0.613215859030837, 'f1-score': 0.6605765808518211, 'support': 9080}, 'positive': {'precision': 0.6953289896301734, 'recall': 0.852210100101226, 'f1-score': 0.7658176672730949, 'support': 8891}, 'accuracy': 0.6667901188844858, 'macro avg': {'precision': 0.6649292709858571, 'recall': 0.667840399075767, 'f1-score': 0.662105296352002, 'support': 27001}, 'weighted avg': {'precision': 0.6648670969407764, 'recall': 0.6667901188844858, 'f1-score': 0.6615685586262495, 'support': 27001}}\n",
      "Performed in 4.39464389999921\n",
      "ngram_range: (2, 2) analyzer: word {'neautral': {'precision': 0.47548690396239085, 'recall': 0.1568106312292359, 'f1-score': 0.23584277148567626, 'support': 9030}, 'negative': {'precision': 0.7269579115610016, 'recall': 0.30055066079295156, 'f1-score': 0.42527660900732434, 'support': 9080}, 'positive': {'precision': 0.3977502590162317, 'recall': 0.9067596445844112, 'f1-score': 0.5529492455418381, 'support': 8891}, 'accuracy': 0.4520943668753009, 'macro avg': {'precision': 0.5333983581798747, 'recall': 0.45470697886886624, 'f1-score': 0.40468954201161295, 'support': 27001}, 'weighted avg': {'precision': 0.5344550991692011, 'recall': 0.4520943668753009, 'f1-score': 0.40396443014757394, 'support': 27001}}\n",
      "Performed in 4.634777500003111\n",
      "ngram_range: (2, 2) analyzer: word {'neautral': {'precision': 0.47548690396239085, 'recall': 0.1568106312292359, 'f1-score': 0.23584277148567626, 'support': 9030}, 'negative': {'precision': 0.7269579115610016, 'recall': 0.30055066079295156, 'f1-score': 0.42527660900732434, 'support': 9080}, 'positive': {'precision': 0.3977502590162317, 'recall': 0.9067596445844112, 'f1-score': 0.5529492455418381, 'support': 8891}, 'accuracy': 0.4520943668753009, 'macro avg': {'precision': 0.5333983581798747, 'recall': 0.45470697886886624, 'f1-score': 0.40468954201161295, 'support': 27001}, 'weighted avg': {'precision': 0.5344550991692011, 'recall': 0.4520943668753009, 'f1-score': 0.40396443014757394, 'support': 27001}}\n",
      "Performed in 4.156829400002607\n",
      "ngram_range: (2, 2) analyzer: word {'neautral': {'precision': 0.47548690396239085, 'recall': 0.1568106312292359, 'f1-score': 0.23584277148567626, 'support': 9030}, 'negative': {'precision': 0.7269579115610016, 'recall': 0.30055066079295156, 'f1-score': 0.42527660900732434, 'support': 9080}, 'positive': {'precision': 0.3977502590162317, 'recall': 0.9067596445844112, 'f1-score': 0.5529492455418381, 'support': 8891}, 'accuracy': 0.4520943668753009, 'macro avg': {'precision': 0.5333983581798747, 'recall': 0.45470697886886624, 'f1-score': 0.40468954201161295, 'support': 27001}, 'weighted avg': {'precision': 0.5344550991692011, 'recall': 0.4520943668753009, 'f1-score': 0.40396443014757394, 'support': 27001}}\n",
      "Performed in 5.9052873000036925\n",
      "ngram_range: (2, 2) analyzer: word {'neautral': {'precision': 0.5537627297976458, 'recall': 0.4636766334440753, 'f1-score': 0.5047314809233922, 'support': 9030}, 'negative': {'precision': 0.7195517546446476, 'recall': 0.5374449339207048, 'f1-score': 0.6153070230740134, 'support': 9080}, 'positive': {'precision': 0.5930636751461527, 'recall': 0.8443369699696323, 'f1-score': 0.6967376676411899, 'support': 8891}, 'accuracy': 0.6138291174400948, 'macro avg': {'precision': 0.6221260531961487, 'recall': 0.6151528457781374, 'f1-score': 0.6055920572128652, 'support': 27001}, 'weighted avg': {'precision': 0.6224560763664525, 'recall': 0.6138291174400948, 'f1-score': 0.605140833496837, 'support': 27001}}\n",
      "Performed in 4.906459400008316\n",
      "ngram_range: (2, 2) analyzer: word {'neautral': {'precision': 0.5706508589402371, 'recall': 0.5223698781838316, 'f1-score': 0.5454440333024977, 'support': 9030}, 'negative': {'precision': 0.7175479135517194, 'recall': 0.5813876651982379, 'f1-score': 0.6423313256677009, 'support': 9080}, 'positive': {'precision': 0.6602214800492178, 'recall': 0.8448993364076032, 'f1-score': 0.741230450441561, 'support': 8891}, 'accuracy': 0.6484204288730047, 'macro avg': {'precision': 0.6494734175137248, 'recall': 0.6495522932632242, 'f1-score': 0.6430019364705866, 'support': 27001}, 'weighted avg': {'precision': 0.649544146157459, 'recall': 0.6484204288730047, 'f1-score': 0.6424950184311765, 'support': 27001}}\n",
      "Performed in 4.354981299999054\n",
      "ngram_range: (2, 2) analyzer: word {'neautral': {'precision': 0.5835935623348547, 'recall': 0.5380952380952381, 'f1-score': 0.5599216409310901, 'support': 9030}, 'negative': {'precision': 0.7158652609925431, 'recall': 0.613215859030837, 'f1-score': 0.6605765808518211, 'support': 9080}, 'positive': {'precision': 0.6953289896301734, 'recall': 0.852210100101226, 'f1-score': 0.7658176672730949, 'support': 8891}, 'accuracy': 0.6667901188844858, 'macro avg': {'precision': 0.6649292709858571, 'recall': 0.667840399075767, 'f1-score': 0.662105296352002, 'support': 27001}, 'weighted avg': {'precision': 0.6648670969407764, 'recall': 0.6667901188844858, 'f1-score': 0.6615685586262495, 'support': 27001}}\n",
      "Performed in 6.165603500005091\n",
      "ngram_range: (2, 2) analyzer: word {'neautral': {'precision': 0.47548690396239085, 'recall': 0.1568106312292359, 'f1-score': 0.23584277148567626, 'support': 9030}, 'negative': {'precision': 0.7269579115610016, 'recall': 0.30055066079295156, 'f1-score': 0.42527660900732434, 'support': 9080}, 'positive': {'precision': 0.3977502590162317, 'recall': 0.9067596445844112, 'f1-score': 0.5529492455418381, 'support': 8891}, 'accuracy': 0.4520943668753009, 'macro avg': {'precision': 0.5333983581798747, 'recall': 0.45470697886886624, 'f1-score': 0.40468954201161295, 'support': 27001}, 'weighted avg': {'precision': 0.5344550991692011, 'recall': 0.4520943668753009, 'f1-score': 0.40396443014757394, 'support': 27001}}\n",
      "Performed in 6.890382900004624\n",
      "ngram_range: (2, 2) analyzer: word {'neautral': {'precision': 0.47548690396239085, 'recall': 0.1568106312292359, 'f1-score': 0.23584277148567626, 'support': 9030}, 'negative': {'precision': 0.7269579115610016, 'recall': 0.30055066079295156, 'f1-score': 0.42527660900732434, 'support': 9080}, 'positive': {'precision': 0.3977502590162317, 'recall': 0.9067596445844112, 'f1-score': 0.5529492455418381, 'support': 8891}, 'accuracy': 0.4520943668753009, 'macro avg': {'precision': 0.5333983581798747, 'recall': 0.45470697886886624, 'f1-score': 0.40468954201161295, 'support': 27001}, 'weighted avg': {'precision': 0.5344550991692011, 'recall': 0.4520943668753009, 'f1-score': 0.40396443014757394, 'support': 27001}}\n",
      "Performed in 6.120662199988146\n",
      "ngram_range: (2, 2) analyzer: word {'neautral': {'precision': 0.47548690396239085, 'recall': 0.1568106312292359, 'f1-score': 0.23584277148567626, 'support': 9030}, 'negative': {'precision': 0.7269579115610016, 'recall': 0.30055066079295156, 'f1-score': 0.42527660900732434, 'support': 9080}, 'positive': {'precision': 0.3977502590162317, 'recall': 0.9067596445844112, 'f1-score': 0.5529492455418381, 'support': 8891}, 'accuracy': 0.4520943668753009, 'macro avg': {'precision': 0.5333983581798747, 'recall': 0.45470697886886624, 'f1-score': 0.40468954201161295, 'support': 27001}, 'weighted avg': {'precision': 0.5344550991692011, 'recall': 0.4520943668753009, 'f1-score': 0.40396443014757394, 'support': 27001}}\n",
      "Performed in 6.11543370000436\n",
      "ngram_range: (2, 3) analyzer: word {'neautral': {'precision': 0.548628762541806, 'recall': 0.4541528239202658, 'f1-score': 0.4969403211148137, 'support': 9030}, 'negative': {'precision': 0.7240494870247435, 'recall': 0.5285242290748898, 'f1-score': 0.6110262286732874, 'support': 9080}, 'positive': {'precision': 0.5831136610327182, 'recall': 0.845911595995951, 'f1-score': 0.6903483409059618, 'support': 8891}, 'accuracy': 0.6081626606421985, 'macro avg': {'precision': 0.6185973035330893, 'recall': 0.6095295496637022, 'f1-score': 0.599438296898021, 'support': 27001}, 'weighted avg': {'precision': 0.6189752464049139, 'recall': 0.6081626606421985, 'f1-score': 0.5989917541948492, 'support': 27001}}\n",
      "Performed in 9.24492630000168\n",
      "ngram_range: (2, 3) analyzer: word {'neautral': {'precision': 0.5646463429328835, 'recall': 0.518936877076412, 'f1-score': 0.5408275145709504, 'support': 9030}, 'negative': {'precision': 0.7212908633696563, 'recall': 0.5686123348017621, 'f1-score': 0.6359157531715728, 'support': 9080}, 'positive': {'precision': 0.6487352737352737, 'recall': 0.8423124507929367, 'f1-score': 0.7329581600195744, 'support': 8891}, 'accuracy': 0.6421243657642309, 'macro avg': {'precision': 0.6448908266792711, 'recall': 0.6432872208903703, 'f1-score': 0.6365671425873658, 'support': 27001}, 'weighted avg': {'precision': 0.6450125119388442, 'recall': 0.6421243657642309, 'f1-score': 0.6360697194958557, 'support': 27001}}\n",
      "Performed in 9.5363526000001\n",
      "ngram_range: (2, 3) analyzer: word {'neautral': {'precision': 0.5796517825417505, 'recall': 0.5419712070874861, 'f1-score': 0.560178561208722, 'support': 9030}, 'negative': {'precision': 0.7168745896257387, 'recall': 0.6012114537444934, 'f1-score': 0.6539682539682541, 'support': 9080}, 'positive': {'precision': 0.6898473910262268, 'recall': 0.8490608480485885, 'f1-score': 0.7612181103156197, 'support': 8891}, 'accuracy': 0.6630124810192215, 'macro avg': {'precision': 0.6621245877312387, 'recall': 0.664081169626856, 'f1-score': 0.6584549751641986, 'support': 27001}, 'weighted avg': {'precision': 0.662083257055957, 'recall': 0.6630124810192215, 'f1-score': 0.6579176464783779, 'support': 27001}}\n",
      "Performed in 8.685234600008698\n",
      "ngram_range: (2, 3) analyzer: word {'neautral': {'precision': 0.475480450629556, 'recall': 0.15891472868217055, 'f1-score': 0.23821381142098272, 'support': 9030}, 'negative': {'precision': 0.7300431499460626, 'recall': 0.29812775330396474, 'f1-score': 0.4233656553018455, 'support': 9080}, 'positive': {'precision': 0.39787916152897657, 'recall': 0.9073220110223822, 'f1-score': 0.5531783583624768, 'support': 8891}, 'accuracy': 0.4521684382059924, 'macro avg': {'precision': 0.5344675873681983, 'recall': 0.4547881643361725, 'f1-score': 0.404919275028435, 'support': 27001}, 'weighted avg': {'precision': 0.5355329023313681, 'recall': 0.4521684382059924, 'f1-score': 0.4041902022692868, 'support': 27001}}\n",
      "Performed in 8.223555000004126\n",
      "ngram_range: (2, 3) analyzer: word {'neautral': {'precision': 0.475480450629556, 'recall': 0.15891472868217055, 'f1-score': 0.23821381142098272, 'support': 9030}, 'negative': {'precision': 0.7300431499460626, 'recall': 0.29812775330396474, 'f1-score': 0.4233656553018455, 'support': 9080}, 'positive': {'precision': 0.39787916152897657, 'recall': 0.9073220110223822, 'f1-score': 0.5531783583624768, 'support': 8891}, 'accuracy': 0.4521684382059924, 'macro avg': {'precision': 0.5344675873681983, 'recall': 0.4547881643361725, 'f1-score': 0.404919275028435, 'support': 27001}, 'weighted avg': {'precision': 0.5355329023313681, 'recall': 0.4521684382059924, 'f1-score': 0.4041902022692868, 'support': 27001}}\n",
      "Performed in 8.608896099991398\n",
      "ngram_range: (2, 3) analyzer: word {'neautral': {'precision': 0.475480450629556, 'recall': 0.15891472868217055, 'f1-score': 0.23821381142098272, 'support': 9030}, 'negative': {'precision': 0.7300431499460626, 'recall': 0.29812775330396474, 'f1-score': 0.4233656553018455, 'support': 9080}, 'positive': {'precision': 0.39787916152897657, 'recall': 0.9073220110223822, 'f1-score': 0.5531783583624768, 'support': 8891}, 'accuracy': 0.4521684382059924, 'macro avg': {'precision': 0.5344675873681983, 'recall': 0.4547881643361725, 'f1-score': 0.404919275028435, 'support': 27001}, 'weighted avg': {'precision': 0.5355329023313681, 'recall': 0.4521684382059924, 'f1-score': 0.4041902022692868, 'support': 27001}}\n",
      "Performed in 10.622565999990911\n",
      "ngram_range: (2, 3) analyzer: word {'neautral': {'precision': 0.548628762541806, 'recall': 0.4541528239202658, 'f1-score': 0.4969403211148137, 'support': 9030}, 'negative': {'precision': 0.7240494870247435, 'recall': 0.5285242290748898, 'f1-score': 0.6110262286732874, 'support': 9080}, 'positive': {'precision': 0.5831136610327182, 'recall': 0.845911595995951, 'f1-score': 0.6903483409059618, 'support': 8891}, 'accuracy': 0.6081626606421985, 'macro avg': {'precision': 0.6185973035330893, 'recall': 0.6095295496637022, 'f1-score': 0.599438296898021, 'support': 27001}, 'weighted avg': {'precision': 0.6189752464049139, 'recall': 0.6081626606421985, 'f1-score': 0.5989917541948492, 'support': 27001}}\n",
      "Performed in 12.344130899989977\n",
      "ngram_range: (2, 3) analyzer: word {'neautral': {'precision': 0.5646463429328835, 'recall': 0.518936877076412, 'f1-score': 0.5408275145709504, 'support': 9030}, 'negative': {'precision': 0.7212908633696563, 'recall': 0.5686123348017621, 'f1-score': 0.6359157531715728, 'support': 9080}, 'positive': {'precision': 0.6487352737352737, 'recall': 0.8423124507929367, 'f1-score': 0.7329581600195744, 'support': 8891}, 'accuracy': 0.6421243657642309, 'macro avg': {'precision': 0.6448908266792711, 'recall': 0.6432872208903703, 'f1-score': 0.6365671425873658, 'support': 27001}, 'weighted avg': {'precision': 0.6450125119388442, 'recall': 0.6421243657642309, 'f1-score': 0.6360697194958557, 'support': 27001}}\n",
      "Performed in 12.741103100008331\n",
      "ngram_range: (2, 3) analyzer: word {'neautral': {'precision': 0.5796517825417505, 'recall': 0.5419712070874861, 'f1-score': 0.560178561208722, 'support': 9030}, 'negative': {'precision': 0.7168745896257387, 'recall': 0.6012114537444934, 'f1-score': 0.6539682539682541, 'support': 9080}, 'positive': {'precision': 0.6898473910262268, 'recall': 0.8490608480485885, 'f1-score': 0.7612181103156197, 'support': 8891}, 'accuracy': 0.6630124810192215, 'macro avg': {'precision': 0.6621245877312387, 'recall': 0.664081169626856, 'f1-score': 0.6584549751641986, 'support': 27001}, 'weighted avg': {'precision': 0.662083257055957, 'recall': 0.6630124810192215, 'f1-score': 0.6579176464783779, 'support': 27001}}\n",
      "Performed in 11.07565600000089\n",
      "ngram_range: (2, 3) analyzer: word {'neautral': {'precision': 0.475480450629556, 'recall': 0.15891472868217055, 'f1-score': 0.23821381142098272, 'support': 9030}, 'negative': {'precision': 0.7300431499460626, 'recall': 0.29812775330396474, 'f1-score': 0.4233656553018455, 'support': 9080}, 'positive': {'precision': 0.39787916152897657, 'recall': 0.9073220110223822, 'f1-score': 0.5531783583624768, 'support': 8891}, 'accuracy': 0.4521684382059924, 'macro avg': {'precision': 0.5344675873681983, 'recall': 0.4547881643361725, 'f1-score': 0.404919275028435, 'support': 27001}, 'weighted avg': {'precision': 0.5355329023313681, 'recall': 0.4521684382059924, 'f1-score': 0.4041902022692868, 'support': 27001}}\n",
      "Performed in 8.509168400007184\n",
      "ngram_range: (2, 3) analyzer: word {'neautral': {'precision': 0.475480450629556, 'recall': 0.15891472868217055, 'f1-score': 0.23821381142098272, 'support': 9030}, 'negative': {'precision': 0.7300431499460626, 'recall': 0.29812775330396474, 'f1-score': 0.4233656553018455, 'support': 9080}, 'positive': {'precision': 0.39787916152897657, 'recall': 0.9073220110223822, 'f1-score': 0.5531783583624768, 'support': 8891}, 'accuracy': 0.4521684382059924, 'macro avg': {'precision': 0.5344675873681983, 'recall': 0.4547881643361725, 'f1-score': 0.404919275028435, 'support': 27001}, 'weighted avg': {'precision': 0.5355329023313681, 'recall': 0.4521684382059924, 'f1-score': 0.4041902022692868, 'support': 27001}}\n",
      "Performed in 8.770413300007931\n",
      "ngram_range: (2, 3) analyzer: word {'neautral': {'precision': 0.475480450629556, 'recall': 0.15891472868217055, 'f1-score': 0.23821381142098272, 'support': 9030}, 'negative': {'precision': 0.7300431499460626, 'recall': 0.29812775330396474, 'f1-score': 0.4233656553018455, 'support': 9080}, 'positive': {'precision': 0.39787916152897657, 'recall': 0.9073220110223822, 'f1-score': 0.5531783583624768, 'support': 8891}, 'accuracy': 0.4521684382059924, 'macro avg': {'precision': 0.5344675873681983, 'recall': 0.4547881643361725, 'f1-score': 0.404919275028435, 'support': 27001}, 'weighted avg': {'precision': 0.5355329023313681, 'recall': 0.4521684382059924, 'f1-score': 0.4041902022692868, 'support': 27001}}\n",
      "Performed in 9.648564800008899\n",
      "ngram_range: (3, 3) analyzer: word {'neautral': {'precision': 0.49836280288146695, 'recall': 0.16854928017718715, 'f1-score': 0.2519033432638199, 'support': 9030}, 'negative': {'precision': 0.7359136387572407, 'recall': 0.30781938325991187, 'f1-score': 0.4340736139152042, 'support': 9080}, 'positive': {'precision': 0.40369249094247855, 'recall': 0.9148577212911934, 'f1-score': 0.5601928374655648, 'support': 8891}, 'accuracy': 0.4611310692196585, 'macro avg': {'precision': 0.5459896441937288, 'recall': 0.4637421282427641, 'f1-score': 0.4153899315481963, 'support': 27001}, 'weighted avg': {'precision': 0.547073881963815, 'recall': 0.4611310692196585, 'f1-score': 0.41467909047548923, 'support': 27001}}\n",
      "Performed in 7.405579600002966\n",
      "ngram_range: (3, 3) analyzer: word {'neautral': {'precision': 0.500751503006012, 'recall': 0.22137320044296788, 'f1-score': 0.30701889110735675, 'support': 9030}, 'negative': {'precision': 0.7158070578408854, 'recall': 0.3775330396475771, 'f1-score': 0.49433989472925227, 'support': 9080}, 'positive': {'precision': 0.43347969264544456, 'recall': 0.888314025418963, 'f1-score': 0.5826417321382464, 'support': 8891}, 'accuracy': 0.49350024073182475, 'macro avg': {'precision': 0.550012751164114, 'recall': 0.4957400885031693, 'f1-score': 0.46133350599161843, 'support': 27001}, 'weighted avg': {'precision': 0.550919673517654, 'recall': 0.49350024073182475, 'f1-score': 0.4607701370794486, 'support': 27001}}\n",
      "Performed in 7.227611700000125\n",
      "ngram_range: (3, 3) analyzer: word {'neautral': {'precision': 0.505674378000873, 'recall': 0.2565891472868217, 'f1-score': 0.3404349103732001, 'support': 9030}, 'negative': {'precision': 0.6920335056139726, 'recall': 0.4276431718061674, 'f1-score': 0.5286229664420393, 'support': 9080}, 'positive': {'precision': 0.46103046168491196, 'recall': 0.8715555055674278, 'f1-score': 0.6030584847659443, 'support': 8891}, 'accuracy': 0.516610495907559, 'macro avg': {'precision': 0.5529127817665859, 'recall': 0.5185959415534723, 'f1-score': 0.4907054538603946, 'support': 27001}, 'weighted avg': {'precision': 0.5536434094723642, 'recall': 0.516610495907559, 'f1-score': 0.49019728024953607, 'support': 27001}}\n",
      "Performed in 7.6723108000005595\n"
     ]
    },
    {
     "name": "stderr",
     "output_type": "stream",
     "text": [
      "C:\\Users\\mdpol\\AppData\\Local\\Programs\\Python\\Python310\\lib\\site-packages\\sklearn\\metrics\\_classification.py:1334: UndefinedMetricWarning: Precision and F-score are ill-defined and being set to 0.0 in labels with no predicted samples. Use `zero_division` parameter to control this behavior.\n",
      "  _warn_prf(average, modifier, msg_start, len(result))\n",
      "C:\\Users\\mdpol\\AppData\\Local\\Programs\\Python\\Python310\\lib\\site-packages\\sklearn\\metrics\\_classification.py:1334: UndefinedMetricWarning: Precision and F-score are ill-defined and being set to 0.0 in labels with no predicted samples. Use `zero_division` parameter to control this behavior.\n",
      "  _warn_prf(average, modifier, msg_start, len(result))\n",
      "C:\\Users\\mdpol\\AppData\\Local\\Programs\\Python\\Python310\\lib\\site-packages\\sklearn\\metrics\\_classification.py:1334: UndefinedMetricWarning: Precision and F-score are ill-defined and being set to 0.0 in labels with no predicted samples. Use `zero_division` parameter to control this behavior.\n",
      "  _warn_prf(average, modifier, msg_start, len(result))\n",
      "C:\\Users\\mdpol\\AppData\\Local\\Programs\\Python\\Python310\\lib\\site-packages\\sklearn\\metrics\\_classification.py:1334: UndefinedMetricWarning: Precision and F-score are ill-defined and being set to 0.0 in labels with no predicted samples. Use `zero_division` parameter to control this behavior.\n",
      "  _warn_prf(average, modifier, msg_start, len(result))\n",
      "C:\\Users\\mdpol\\AppData\\Local\\Programs\\Python\\Python310\\lib\\site-packages\\sklearn\\metrics\\_classification.py:1334: UndefinedMetricWarning: Precision and F-score are ill-defined and being set to 0.0 in labels with no predicted samples. Use `zero_division` parameter to control this behavior.\n",
      "  _warn_prf(average, modifier, msg_start, len(result))\n",
      "C:\\Users\\mdpol\\AppData\\Local\\Programs\\Python\\Python310\\lib\\site-packages\\sklearn\\metrics\\_classification.py:1334: UndefinedMetricWarning: Precision and F-score are ill-defined and being set to 0.0 in labels with no predicted samples. Use `zero_division` parameter to control this behavior.\n",
      "  _warn_prf(average, modifier, msg_start, len(result))\n"
     ]
    },
    {
     "name": "stdout",
     "output_type": "stream",
     "text": [
      "ngram_range: (3, 3) analyzer: word {'neautral': {'precision': 0.20833333333333334, 'recall': 0.004429678848283499, 'f1-score': 0.008674907829104316, 'support': 9030}, 'negative': {'precision': 0.0, 'recall': 0.0, 'f1-score': 0.0, 'support': 9080}, 'positive': {'precision': 0.33126934984520123, 'recall': 0.998875267124058, 'f1-score': 0.49753501400560224, 'support': 8891}, 'accuracy': 0.3303951705492389, 'macro avg': {'precision': 0.17986756105951152, 'recall': 0.33443498199078053, 'f1-score': 0.16873664061156887, 'support': 27001}, 'weighted avg': {'precision': 0.17875507534808652, 'recall': 0.3303951705492389, 'f1-score': 0.16673153687717573, 'support': 27001}}\n",
      "Performed in 6.760216800001217\n"
     ]
    },
    {
     "name": "stderr",
     "output_type": "stream",
     "text": [
      "C:\\Users\\mdpol\\AppData\\Local\\Programs\\Python\\Python310\\lib\\site-packages\\sklearn\\metrics\\_classification.py:1334: UndefinedMetricWarning: Precision and F-score are ill-defined and being set to 0.0 in labels with no predicted samples. Use `zero_division` parameter to control this behavior.\n",
      "  _warn_prf(average, modifier, msg_start, len(result))\n",
      "C:\\Users\\mdpol\\AppData\\Local\\Programs\\Python\\Python310\\lib\\site-packages\\sklearn\\metrics\\_classification.py:1334: UndefinedMetricWarning: Precision and F-score are ill-defined and being set to 0.0 in labels with no predicted samples. Use `zero_division` parameter to control this behavior.\n",
      "  _warn_prf(average, modifier, msg_start, len(result))\n",
      "C:\\Users\\mdpol\\AppData\\Local\\Programs\\Python\\Python310\\lib\\site-packages\\sklearn\\metrics\\_classification.py:1334: UndefinedMetricWarning: Precision and F-score are ill-defined and being set to 0.0 in labels with no predicted samples. Use `zero_division` parameter to control this behavior.\n",
      "  _warn_prf(average, modifier, msg_start, len(result))\n",
      "C:\\Users\\mdpol\\AppData\\Local\\Programs\\Python\\Python310\\lib\\site-packages\\sklearn\\metrics\\_classification.py:1334: UndefinedMetricWarning: Precision and F-score are ill-defined and being set to 0.0 in labels with no predicted samples. Use `zero_division` parameter to control this behavior.\n",
      "  _warn_prf(average, modifier, msg_start, len(result))\n",
      "C:\\Users\\mdpol\\AppData\\Local\\Programs\\Python\\Python310\\lib\\site-packages\\sklearn\\metrics\\_classification.py:1334: UndefinedMetricWarning: Precision and F-score are ill-defined and being set to 0.0 in labels with no predicted samples. Use `zero_division` parameter to control this behavior.\n",
      "  _warn_prf(average, modifier, msg_start, len(result))\n",
      "C:\\Users\\mdpol\\AppData\\Local\\Programs\\Python\\Python310\\lib\\site-packages\\sklearn\\metrics\\_classification.py:1334: UndefinedMetricWarning: Precision and F-score are ill-defined and being set to 0.0 in labels with no predicted samples. Use `zero_division` parameter to control this behavior.\n",
      "  _warn_prf(average, modifier, msg_start, len(result))\n"
     ]
    },
    {
     "name": "stdout",
     "output_type": "stream",
     "text": [
      "ngram_range: (3, 3) analyzer: word {'neautral': {'precision': 0.20833333333333334, 'recall': 0.004429678848283499, 'f1-score': 0.008674907829104316, 'support': 9030}, 'negative': {'precision': 0.0, 'recall': 0.0, 'f1-score': 0.0, 'support': 9080}, 'positive': {'precision': 0.33126934984520123, 'recall': 0.998875267124058, 'f1-score': 0.49753501400560224, 'support': 8891}, 'accuracy': 0.3303951705492389, 'macro avg': {'precision': 0.17986756105951152, 'recall': 0.33443498199078053, 'f1-score': 0.16873664061156887, 'support': 27001}, 'weighted avg': {'precision': 0.17875507534808652, 'recall': 0.3303951705492389, 'f1-score': 0.16673153687717573, 'support': 27001}}\n",
      "Performed in 7.994243399996776\n"
     ]
    },
    {
     "name": "stderr",
     "output_type": "stream",
     "text": [
      "C:\\Users\\mdpol\\AppData\\Local\\Programs\\Python\\Python310\\lib\\site-packages\\sklearn\\metrics\\_classification.py:1334: UndefinedMetricWarning: Precision and F-score are ill-defined and being set to 0.0 in labels with no predicted samples. Use `zero_division` parameter to control this behavior.\n",
      "  _warn_prf(average, modifier, msg_start, len(result))\n",
      "C:\\Users\\mdpol\\AppData\\Local\\Programs\\Python\\Python310\\lib\\site-packages\\sklearn\\metrics\\_classification.py:1334: UndefinedMetricWarning: Precision and F-score are ill-defined and being set to 0.0 in labels with no predicted samples. Use `zero_division` parameter to control this behavior.\n",
      "  _warn_prf(average, modifier, msg_start, len(result))\n",
      "C:\\Users\\mdpol\\AppData\\Local\\Programs\\Python\\Python310\\lib\\site-packages\\sklearn\\metrics\\_classification.py:1334: UndefinedMetricWarning: Precision and F-score are ill-defined and being set to 0.0 in labels with no predicted samples. Use `zero_division` parameter to control this behavior.\n",
      "  _warn_prf(average, modifier, msg_start, len(result))\n",
      "C:\\Users\\mdpol\\AppData\\Local\\Programs\\Python\\Python310\\lib\\site-packages\\sklearn\\metrics\\_classification.py:1334: UndefinedMetricWarning: Precision and F-score are ill-defined and being set to 0.0 in labels with no predicted samples. Use `zero_division` parameter to control this behavior.\n",
      "  _warn_prf(average, modifier, msg_start, len(result))\n",
      "C:\\Users\\mdpol\\AppData\\Local\\Programs\\Python\\Python310\\lib\\site-packages\\sklearn\\metrics\\_classification.py:1334: UndefinedMetricWarning: Precision and F-score are ill-defined and being set to 0.0 in labels with no predicted samples. Use `zero_division` parameter to control this behavior.\n",
      "  _warn_prf(average, modifier, msg_start, len(result))\n",
      "C:\\Users\\mdpol\\AppData\\Local\\Programs\\Python\\Python310\\lib\\site-packages\\sklearn\\metrics\\_classification.py:1334: UndefinedMetricWarning: Precision and F-score are ill-defined and being set to 0.0 in labels with no predicted samples. Use `zero_division` parameter to control this behavior.\n",
      "  _warn_prf(average, modifier, msg_start, len(result))\n"
     ]
    },
    {
     "name": "stdout",
     "output_type": "stream",
     "text": [
      "ngram_range: (3, 3) analyzer: word {'neautral': {'precision': 0.20833333333333334, 'recall': 0.004429678848283499, 'f1-score': 0.008674907829104316, 'support': 9030}, 'negative': {'precision': 0.0, 'recall': 0.0, 'f1-score': 0.0, 'support': 9080}, 'positive': {'precision': 0.33126934984520123, 'recall': 0.998875267124058, 'f1-score': 0.49753501400560224, 'support': 8891}, 'accuracy': 0.3303951705492389, 'macro avg': {'precision': 0.17986756105951152, 'recall': 0.33443498199078053, 'f1-score': 0.16873664061156887, 'support': 27001}, 'weighted avg': {'precision': 0.17875507534808652, 'recall': 0.3303951705492389, 'f1-score': 0.16673153687717573, 'support': 27001}}\n",
      "Performed in 7.679321700008586\n",
      "ngram_range: (3, 3) analyzer: word {'neautral': {'precision': 0.49836280288146695, 'recall': 0.16854928017718715, 'f1-score': 0.2519033432638199, 'support': 9030}, 'negative': {'precision': 0.7359136387572407, 'recall': 0.30781938325991187, 'f1-score': 0.4340736139152042, 'support': 9080}, 'positive': {'precision': 0.40369249094247855, 'recall': 0.9148577212911934, 'f1-score': 0.5601928374655648, 'support': 8891}, 'accuracy': 0.4611310692196585, 'macro avg': {'precision': 0.5459896441937288, 'recall': 0.4637421282427641, 'f1-score': 0.4153899315481963, 'support': 27001}, 'weighted avg': {'precision': 0.547073881963815, 'recall': 0.4611310692196585, 'f1-score': 0.41467909047548923, 'support': 27001}}\n",
      "Performed in 8.835129800005234\n",
      "ngram_range: (3, 3) analyzer: word {'neautral': {'precision': 0.500751503006012, 'recall': 0.22137320044296788, 'f1-score': 0.30701889110735675, 'support': 9030}, 'negative': {'precision': 0.7158070578408854, 'recall': 0.3775330396475771, 'f1-score': 0.49433989472925227, 'support': 9080}, 'positive': {'precision': 0.43347969264544456, 'recall': 0.888314025418963, 'f1-score': 0.5826417321382464, 'support': 8891}, 'accuracy': 0.49350024073182475, 'macro avg': {'precision': 0.550012751164114, 'recall': 0.4957400885031693, 'f1-score': 0.46133350599161843, 'support': 27001}, 'weighted avg': {'precision': 0.550919673517654, 'recall': 0.49350024073182475, 'f1-score': 0.4607701370794486, 'support': 27001}}\n",
      "Performed in 7.748863500004518\n",
      "ngram_range: (3, 3) analyzer: word {'neautral': {'precision': 0.505674378000873, 'recall': 0.2565891472868217, 'f1-score': 0.3404349103732001, 'support': 9030}, 'negative': {'precision': 0.6920335056139726, 'recall': 0.4276431718061674, 'f1-score': 0.5286229664420393, 'support': 9080}, 'positive': {'precision': 0.46103046168491196, 'recall': 0.8715555055674278, 'f1-score': 0.6030584847659443, 'support': 8891}, 'accuracy': 0.516610495907559, 'macro avg': {'precision': 0.5529127817665859, 'recall': 0.5185959415534723, 'f1-score': 0.4907054538603946, 'support': 27001}, 'weighted avg': {'precision': 0.5536434094723642, 'recall': 0.516610495907559, 'f1-score': 0.49019728024953607, 'support': 27001}}\n",
      "Performed in 7.31936749999295\n"
     ]
    },
    {
     "name": "stderr",
     "output_type": "stream",
     "text": [
      "C:\\Users\\mdpol\\AppData\\Local\\Programs\\Python\\Python310\\lib\\site-packages\\sklearn\\metrics\\_classification.py:1334: UndefinedMetricWarning: Precision and F-score are ill-defined and being set to 0.0 in labels with no predicted samples. Use `zero_division` parameter to control this behavior.\n",
      "  _warn_prf(average, modifier, msg_start, len(result))\n",
      "C:\\Users\\mdpol\\AppData\\Local\\Programs\\Python\\Python310\\lib\\site-packages\\sklearn\\metrics\\_classification.py:1334: UndefinedMetricWarning: Precision and F-score are ill-defined and being set to 0.0 in labels with no predicted samples. Use `zero_division` parameter to control this behavior.\n",
      "  _warn_prf(average, modifier, msg_start, len(result))\n",
      "C:\\Users\\mdpol\\AppData\\Local\\Programs\\Python\\Python310\\lib\\site-packages\\sklearn\\metrics\\_classification.py:1334: UndefinedMetricWarning: Precision and F-score are ill-defined and being set to 0.0 in labels with no predicted samples. Use `zero_division` parameter to control this behavior.\n",
      "  _warn_prf(average, modifier, msg_start, len(result))\n",
      "C:\\Users\\mdpol\\AppData\\Local\\Programs\\Python\\Python310\\lib\\site-packages\\sklearn\\metrics\\_classification.py:1334: UndefinedMetricWarning: Precision and F-score are ill-defined and being set to 0.0 in labels with no predicted samples. Use `zero_division` parameter to control this behavior.\n",
      "  _warn_prf(average, modifier, msg_start, len(result))\n",
      "C:\\Users\\mdpol\\AppData\\Local\\Programs\\Python\\Python310\\lib\\site-packages\\sklearn\\metrics\\_classification.py:1334: UndefinedMetricWarning: Precision and F-score are ill-defined and being set to 0.0 in labels with no predicted samples. Use `zero_division` parameter to control this behavior.\n",
      "  _warn_prf(average, modifier, msg_start, len(result))\n",
      "C:\\Users\\mdpol\\AppData\\Local\\Programs\\Python\\Python310\\lib\\site-packages\\sklearn\\metrics\\_classification.py:1334: UndefinedMetricWarning: Precision and F-score are ill-defined and being set to 0.0 in labels with no predicted samples. Use `zero_division` parameter to control this behavior.\n",
      "  _warn_prf(average, modifier, msg_start, len(result))\n"
     ]
    },
    {
     "name": "stdout",
     "output_type": "stream",
     "text": [
      "ngram_range: (3, 3) analyzer: word {'neautral': {'precision': 0.20833333333333334, 'recall': 0.004429678848283499, 'f1-score': 0.008674907829104316, 'support': 9030}, 'negative': {'precision': 0.0, 'recall': 0.0, 'f1-score': 0.0, 'support': 9080}, 'positive': {'precision': 0.33126934984520123, 'recall': 0.998875267124058, 'f1-score': 0.49753501400560224, 'support': 8891}, 'accuracy': 0.3303951705492389, 'macro avg': {'precision': 0.17986756105951152, 'recall': 0.33443498199078053, 'f1-score': 0.16873664061156887, 'support': 27001}, 'weighted avg': {'precision': 0.17875507534808652, 'recall': 0.3303951705492389, 'f1-score': 0.16673153687717573, 'support': 27001}}\n",
      "Performed in 7.197165499994298\n"
     ]
    },
    {
     "name": "stderr",
     "output_type": "stream",
     "text": [
      "C:\\Users\\mdpol\\AppData\\Local\\Programs\\Python\\Python310\\lib\\site-packages\\sklearn\\metrics\\_classification.py:1334: UndefinedMetricWarning: Precision and F-score are ill-defined and being set to 0.0 in labels with no predicted samples. Use `zero_division` parameter to control this behavior.\n",
      "  _warn_prf(average, modifier, msg_start, len(result))\n",
      "C:\\Users\\mdpol\\AppData\\Local\\Programs\\Python\\Python310\\lib\\site-packages\\sklearn\\metrics\\_classification.py:1334: UndefinedMetricWarning: Precision and F-score are ill-defined and being set to 0.0 in labels with no predicted samples. Use `zero_division` parameter to control this behavior.\n",
      "  _warn_prf(average, modifier, msg_start, len(result))\n",
      "C:\\Users\\mdpol\\AppData\\Local\\Programs\\Python\\Python310\\lib\\site-packages\\sklearn\\metrics\\_classification.py:1334: UndefinedMetricWarning: Precision and F-score are ill-defined and being set to 0.0 in labels with no predicted samples. Use `zero_division` parameter to control this behavior.\n",
      "  _warn_prf(average, modifier, msg_start, len(result))\n",
      "C:\\Users\\mdpol\\AppData\\Local\\Programs\\Python\\Python310\\lib\\site-packages\\sklearn\\metrics\\_classification.py:1334: UndefinedMetricWarning: Precision and F-score are ill-defined and being set to 0.0 in labels with no predicted samples. Use `zero_division` parameter to control this behavior.\n",
      "  _warn_prf(average, modifier, msg_start, len(result))\n",
      "C:\\Users\\mdpol\\AppData\\Local\\Programs\\Python\\Python310\\lib\\site-packages\\sklearn\\metrics\\_classification.py:1334: UndefinedMetricWarning: Precision and F-score are ill-defined and being set to 0.0 in labels with no predicted samples. Use `zero_division` parameter to control this behavior.\n",
      "  _warn_prf(average, modifier, msg_start, len(result))\n",
      "C:\\Users\\mdpol\\AppData\\Local\\Programs\\Python\\Python310\\lib\\site-packages\\sklearn\\metrics\\_classification.py:1334: UndefinedMetricWarning: Precision and F-score are ill-defined and being set to 0.0 in labels with no predicted samples. Use `zero_division` parameter to control this behavior.\n",
      "  _warn_prf(average, modifier, msg_start, len(result))\n"
     ]
    },
    {
     "name": "stdout",
     "output_type": "stream",
     "text": [
      "ngram_range: (3, 3) analyzer: word {'neautral': {'precision': 0.20833333333333334, 'recall': 0.004429678848283499, 'f1-score': 0.008674907829104316, 'support': 9030}, 'negative': {'precision': 0.0, 'recall': 0.0, 'f1-score': 0.0, 'support': 9080}, 'positive': {'precision': 0.33126934984520123, 'recall': 0.998875267124058, 'f1-score': 0.49753501400560224, 'support': 8891}, 'accuracy': 0.3303951705492389, 'macro avg': {'precision': 0.17986756105951152, 'recall': 0.33443498199078053, 'f1-score': 0.16873664061156887, 'support': 27001}, 'weighted avg': {'precision': 0.17875507534808652, 'recall': 0.3303951705492389, 'f1-score': 0.16673153687717573, 'support': 27001}}\n",
      "Performed in 6.9064738000015495\n"
     ]
    },
    {
     "name": "stderr",
     "output_type": "stream",
     "text": [
      "C:\\Users\\mdpol\\AppData\\Local\\Programs\\Python\\Python310\\lib\\site-packages\\sklearn\\metrics\\_classification.py:1334: UndefinedMetricWarning: Precision and F-score are ill-defined and being set to 0.0 in labels with no predicted samples. Use `zero_division` parameter to control this behavior.\n",
      "  _warn_prf(average, modifier, msg_start, len(result))\n",
      "C:\\Users\\mdpol\\AppData\\Local\\Programs\\Python\\Python310\\lib\\site-packages\\sklearn\\metrics\\_classification.py:1334: UndefinedMetricWarning: Precision and F-score are ill-defined and being set to 0.0 in labels with no predicted samples. Use `zero_division` parameter to control this behavior.\n",
      "  _warn_prf(average, modifier, msg_start, len(result))\n",
      "C:\\Users\\mdpol\\AppData\\Local\\Programs\\Python\\Python310\\lib\\site-packages\\sklearn\\metrics\\_classification.py:1334: UndefinedMetricWarning: Precision and F-score are ill-defined and being set to 0.0 in labels with no predicted samples. Use `zero_division` parameter to control this behavior.\n",
      "  _warn_prf(average, modifier, msg_start, len(result))\n",
      "C:\\Users\\mdpol\\AppData\\Local\\Programs\\Python\\Python310\\lib\\site-packages\\sklearn\\metrics\\_classification.py:1334: UndefinedMetricWarning: Precision and F-score are ill-defined and being set to 0.0 in labels with no predicted samples. Use `zero_division` parameter to control this behavior.\n",
      "  _warn_prf(average, modifier, msg_start, len(result))\n"
     ]
    },
    {
     "name": "stdout",
     "output_type": "stream",
     "text": [
      "ngram_range: (3, 3) analyzer: word {'neautral': {'precision': 0.20833333333333334, 'recall': 0.004429678848283499, 'f1-score': 0.008674907829104316, 'support': 9030}, 'negative': {'precision': 0.0, 'recall': 0.0, 'f1-score': 0.0, 'support': 9080}, 'positive': {'precision': 0.33126934984520123, 'recall': 0.998875267124058, 'f1-score': 0.49753501400560224, 'support': 8891}, 'accuracy': 0.3303951705492389, 'macro avg': {'precision': 0.17986756105951152, 'recall': 0.33443498199078053, 'f1-score': 0.16873664061156887, 'support': 27001}, 'weighted avg': {'precision': 0.17875507534808652, 'recall': 0.3303951705492389, 'f1-score': 0.16673153687717573, 'support': 27001}}\n",
      "Performed in 7.004192100008368\n"
     ]
    },
    {
     "name": "stderr",
     "output_type": "stream",
     "text": [
      "C:\\Users\\mdpol\\AppData\\Local\\Programs\\Python\\Python310\\lib\\site-packages\\sklearn\\metrics\\_classification.py:1334: UndefinedMetricWarning: Precision and F-score are ill-defined and being set to 0.0 in labels with no predicted samples. Use `zero_division` parameter to control this behavior.\n",
      "  _warn_prf(average, modifier, msg_start, len(result))\n",
      "C:\\Users\\mdpol\\AppData\\Local\\Programs\\Python\\Python310\\lib\\site-packages\\sklearn\\metrics\\_classification.py:1334: UndefinedMetricWarning: Precision and F-score are ill-defined and being set to 0.0 in labels with no predicted samples. Use `zero_division` parameter to control this behavior.\n",
      "  _warn_prf(average, modifier, msg_start, len(result))\n"
     ]
    }
   ],
   "source": [
    "MIN_NGRAM = 2\n",
    "MAX_NGRAM = 4\n",
    "\n",
    "for min_n in range(MIN_NGRAM, MAX_NGRAM):\n",
    "    for max_n in range(min_n, MAX_NGRAM):\n",
    "        for max_df in [0.1, 0.5]:\n",
    "            for min_df in [0, 0.01]:\n",
    "                for max_features in [2048, 8192, 32768]:\n",
    "                    start = perf_counter()\n",
    "\n",
    "                    tfidf_vectorizer = TfidfVectorizer(ngram_range=(min_n, max_n), stop_words=stopwords.words('russian'), max_df=max_df, min_df=min_df, max_features=max_features)\n",
    "\n",
    "                    classifier = MultinomialNB()\n",
    "                    classifier.fit(tfidf_vectorizer.fit_transform(X_train), y_train)\n",
    "\n",
    "                    predicted = classifier.predict(tfidf_vectorizer.transform(X_test))\n",
    "\n",
    "                    results.append([classification_report(y_test, predicted, output_dict=True), tfidf_vectorizer])\n",
    "\n",
    "                    print(\"ngram_range:\", str(tfidf_vectorizer.ngram_range), \"analyzer:\", str(tfidf_vectorizer.analyzer), classification_report(y_test, predicted, output_dict=False))\n",
    "                    print(f'Performed in {perf_counter() - start}')"
   ],
   "metadata": {
    "collapsed": false
   }
  },
  {
   "cell_type": "markdown",
   "metadata": {
    "id": "5QYTwyMtWhAZ"
   },
   "source": [
    "## Задание 5.2 Регулярные выражения\n",
    "\n",
    "Регулярные выражения - способ поиска и анализа строк. Например, можно понять, какие даты в наборе строк представлены в формате DD/MM/YYYY, а какие - в других форматах. \n",
    "\n",
    "Или бывает, например, что перед работой с текстом, надо почистить его от своеобразного мусора: упоминаний пользователей, url и так далее.\n",
    "\n",
    "Навык полезный, давайте в нём тоже потренируемся.\n",
    "\n",
    "Для работы с регулярными выражениями есть библиотека **re**"
   ]
  },
  {
   "cell_type": "code",
   "metadata": {
    "id": "VaUW5S4gWhAb"
   },
   "source": [
    "import re"
   ],
   "execution_count": 2,
   "outputs": []
  },
  {
   "cell_type": "markdown",
   "metadata": {
    "id": "D6aYh7Osl8xr"
   },
   "source": [
    "В регулярных выражениях, кроме привычных символов-букв, есть специальные символы:\n",
    "* **а?** - ноль или один символ **а**\n",
    "* **а+** - один или более символов **а**\n",
    "* **а\\*** - ноль или более символов **а** (не путать с +)\n",
    "* **.** - любое количество любого символа\n"
   ]
  },
  {
   "cell_type": "code",
   "source": [
    "result = re.findall('a?b.', 'aabbсabbcbb')\n",
    "print(result)"
   ],
   "metadata": {
    "colab": {
     "base_uri": "https://localhost:8080/"
    },
    "id": "o0Wh4EZcUVWB",
    "outputId": "eb3baf5e-4bf5-4e32-e9c0-b08fab66ba7c"
   },
   "execution_count": null,
   "outputs": [
    {
     "output_type": "stream",
     "name": "stdout",
     "text": [
      "['abb', 'abb', 'bb']\n"
     ]
    }
   ]
  },
  {
   "cell_type": "code",
   "source": [
    "result = re.findall('a*b.', 'aabbсabbcbb')\n",
    "print(result)"
   ],
   "metadata": {
    "colab": {
     "base_uri": "https://localhost:8080/"
    },
    "id": "ZgN7gjUwWGON",
    "outputId": "4c7da339-1c1d-464d-e958-18f091f3c1b0"
   },
   "execution_count": null,
   "outputs": [
    {
     "output_type": "stream",
     "name": "stdout",
     "text": [
      "['aabb', 'abb', 'bb']\n"
     ]
    }
   ]
  },
  {
   "cell_type": "code",
   "source": [
    "result = re.findall('a+b.', 'aabbсabbcbb')\n",
    "print(result)"
   ],
   "metadata": {
    "id": "izXJKMwJWKyY",
    "outputId": "358233f6-4a73-4e40-b797-b2d4aed3acd1",
    "colab": {
     "base_uri": "https://localhost:8080/"
    }
   },
   "execution_count": null,
   "outputs": [
    {
     "output_type": "stream",
     "name": "stdout",
     "text": [
      "['aabb', 'abb']\n"
     ]
    }
   ]
  },
  {
   "cell_type": "markdown",
   "metadata": {
    "id": "q7zOFFA3l_KQ"
   },
   "source": [
    "Рассмотрим подробно несколько наиболее полезных функций:"
   ]
  },
  {
   "cell_type": "markdown",
   "metadata": {
    "id": "DbJrUpARWhAd"
   },
   "source": [
    "### findall\n",
    "возвращает список всех найденных непересекающихся совпадений.\n",
    "\n",
    "Регулярное выражение **ab+c.**: \n",
    "* **a** - просто символ **a**\n",
    "* **b+** - один или более символов **b**\n",
    "* **c** - просто символ **c**\n",
    "* **.** - любой символ\n"
   ]
  },
  {
   "cell_type": "code",
   "metadata": {
    "id": "2athHzKuWhAd",
    "colab": {
     "base_uri": "https://localhost:8080/"
    },
    "outputId": "cafee36f-540d-4206-a320-d98ae94c4c47"
   },
   "source": [
    "result = re.findall('ab+c.', 'abcdefghijkabcabcxabc')\n",
    "print(result)"
   ],
   "execution_count": null,
   "outputs": [
    {
     "output_type": "stream",
     "name": "stdout",
     "text": [
      "['abcd', 'abca']\n"
     ]
    }
   ]
  },
  {
   "cell_type": "markdown",
   "metadata": {
    "id": "A9FpIw5RWhAf"
   },
   "source": [
    "Вопрос на внимательность: почему нет abcx?"
   ]
  },
  {
   "cell_type": "markdown",
   "metadata": {
    "id": "B5ttzoxEWhAg"
   },
   "source": [
    "**Задание**: вернуть список первых двух букв каждого слова в строке, состоящей из нескольких слов."
   ]
  },
  {
   "cell_type": "code",
   "metadata": {
    "id": "7ZR2AEq3WhAg"
   },
   "source": [
    "result = re.findall(r'\\b\\w{2}', \"Mauris id augue ac risus convallis laoreet a eu tellus\")\n",
    "print(result)"
   ],
   "execution_count": 20,
   "outputs": [
    {
     "name": "stdout",
     "output_type": "stream",
     "text": [
      "['Ma', 'id', 'au', 'ac', 'ri', 'co', 'la', 'eu', 'te']\n"
     ]
    }
   ]
  },
  {
   "cell_type": "markdown",
   "metadata": {
    "id": "MI18l-l9WhAk"
   },
   "source": [
    "### split\n",
    "разделяет строку по заданному шаблону\n"
   ]
  },
  {
   "cell_type": "code",
   "metadata": {
    "id": "sVKdRoc1WhAl",
    "colab": {
     "base_uri": "https://localhost:8080/"
    },
    "outputId": "78b5d289-8e8c-4621-fe3c-34aa130c727c"
   },
   "source": [
    "result = re.split(',', 'itsy, bitsy, teenie, weenie')\n",
    "print(result)"
   ],
   "execution_count": null,
   "outputs": [
    {
     "output_type": "stream",
     "text": [
      "['itsy', ' bitsy', ' teenie', ' weenie']\n"
     ],
     "name": "stdout"
    }
   ]
  },
  {
   "cell_type": "markdown",
   "metadata": {
    "id": "10u5efuSWhAm"
   },
   "source": [
    "можно указать максимальное количество разбиений"
   ]
  },
  {
   "cell_type": "code",
   "metadata": {
    "id": "9U9EQZMwWhAn",
    "colab": {
     "base_uri": "https://localhost:8080/"
    },
    "outputId": "45699604-9950-4185-cd4f-0e3ad6655629"
   },
   "source": [
    "result = re.split(',', 'itsy, bitsy, teenie, weenie', maxsplit=2)\n",
    "print(result)"
   ],
   "execution_count": null,
   "outputs": [
    {
     "output_type": "stream",
     "text": [
      "['itsy', ' bitsy', ' teenie, weenie']\n"
     ],
     "name": "stdout"
    }
   ]
  },
  {
   "cell_type": "markdown",
   "metadata": {
    "id": "0EMcMyflWhAp"
   },
   "source": [
    "**Задание**: разбейте строку, состоящую из нескольких предложений, по точкам, но не более чем на 3 предложения."
   ]
  },
  {
   "cell_type": "code",
   "metadata": {
    "id": "dVgPSjEOWhAp"
   },
   "source": [
    "result = re.split('\\.',\n",
    "                  'Lorem ipsum dolor sit amet, consectetur adipiscing elit. Pellentesque tincidunt ac nulla sed pellentesque. Fusce non pellentesque elit, ac viverra est. Maecenas laoreet, leo eget venenatis dictum, nisi eros vestibulum sem, nec tristique est risus et lorem. Cras faucibus lorem ante, sed volutpat est hendrerit fermentum. Vestibulum aliquam non lectus eu blandit. Nam suscipit lacus id sollicitudin aliquam. Etiam ut ultricies mauris.',\n",
    "                  maxsplit=2)\n",
    "print(result)"
   ],
   "execution_count": 7,
   "outputs": [
    {
     "name": "stdout",
     "output_type": "stream",
     "text": [
      "['Lorem ipsum dolor sit amet, consectetur adipiscing elit', ' Pellentesque tincidunt ac nulla sed pellentesque', ' Fusce non pellentesque elit, ac viverra est. Maecenas laoreet, leo eget venenatis dictum, nisi eros vestibulum sem, nec tristique est risus et lorem. Cras faucibus lorem ante, sed volutpat est hendrerit fermentum. Vestibulum aliquam non lectus eu blandit. Nam suscipit lacus id sollicitudin aliquam. Etiam ut ultricies mauris.']\n"
     ]
    }
   ]
  },
  {
   "cell_type": "markdown",
   "metadata": {
    "id": "1wrEGqBSWhAr"
   },
   "source": [
    "### sub\n",
    "ищет шаблон в строке и заменяет все совпадения на указанную подстроку\n",
    "\n",
    "параметры: (pattern, repl, string)"
   ]
  },
  {
   "cell_type": "code",
   "metadata": {
    "id": "az3KxKWwWhAr",
    "colab": {
     "base_uri": "https://localhost:8080/"
    },
    "outputId": "93f260be-ce79-405c-b21a-5ca8345ff4b7"
   },
   "source": [
    "result = re.sub('a', 'b', 'abcabc')\n",
    "print(result)"
   ],
   "execution_count": null,
   "outputs": [
    {
     "output_type": "stream",
     "text": [
      "bbcbbc\n"
     ],
     "name": "stdout"
    }
   ]
  },
  {
   "cell_type": "markdown",
   "metadata": {
    "id": "qD0n7_HPWhAt"
   },
   "source": [
    "**Задание**: напишите регулярное выражение, которое позволит заменить все цифры в строке на \"DIG\"."
   ]
  },
  {
   "cell_type": "code",
   "metadata": {
    "id": "s_Sdu7xlWhAu"
   },
   "source": [
    "result = re.sub(r'\\d', 'DIG', '1 one 2 two 3 three 4 four 10 ten')\n",
    "print(result)"
   ],
   "execution_count": 55,
   "outputs": [
    {
     "name": "stdout",
     "output_type": "stream",
     "text": [
      "DIG one DIG two DIG three DIG four DIGDIG ten\n"
     ]
    }
   ]
  },
  {
   "cell_type": "markdown",
   "metadata": {
    "id": "b8__oi1PWhAv"
   },
   "source": [
    "**Задание**: напишите  регулярное выражение, которое позволит убрать url из строки."
   ]
  },
  {
   "cell_type": "code",
   "metadata": {
    "id": "KwNS9zt4WhAv"
   },
   "source": [
    "result = re.sub(r'\\w+://\\S+', '[link removed]',\n",
    "                'Docs: https://docs.python.org/3/library/re.html Meme: https://www.youtube.com/watch?v=dQw4w9WgXcQ&t=0s')\n",
    "print(result)"
   ],
   "execution_count": 37,
   "outputs": [
    {
     "name": "stdout",
     "output_type": "stream",
     "text": [
      "Docs: [link removed] Meme: [link removed]\n"
     ]
    }
   ]
  },
  {
   "cell_type": "markdown",
   "metadata": {
    "id": "gStgBJy2WhAx"
   },
   "source": [
    "### compile\n",
    "компилирует регулярное выражение в отдельный объект"
   ]
  },
  {
   "cell_type": "code",
   "metadata": {
    "id": "JstTupisWhAy",
    "colab": {
     "base_uri": "https://localhost:8080/"
    },
    "outputId": "f60e13a6-9d93-46e5-f329-620f6072715f"
   },
   "source": [
    "# Пример: построение списка всех слов строки:\n",
    "prog = re.compile('[А-Яа-яё\\-]+')\n",
    "prog.findall(\"Слова? Да, больше, ещё больше слов! Что-то ещё.\")"
   ],
   "execution_count": null,
   "outputs": [
    {
     "output_type": "execute_result",
     "data": {
      "text/plain": [
       "['Слова', 'Да', 'больше', 'ещё', 'больше', 'слов', 'Что-то', 'ещё']"
      ]
     },
     "metadata": {
      "tags": []
     },
     "execution_count": 147
    }
   ]
  },
  {
   "cell_type": "markdown",
   "metadata": {
    "id": "WXEXc3G0WhA2"
   },
   "source": [
    "**Задание**: для выбранной строки постройте список слов, которые длиннее трех символов."
   ]
  },
  {
   "cell_type": "code",
   "metadata": {
    "id": "nFvnIWbUWhA2"
   },
   "source": [
    "rg = re.compile('\\w{4,}')\n",
    "rg.findall(\"Vestibulum pellentesque facilisis orci, id convallis dui vulputate id.\")"
   ],
   "execution_count": 46,
   "outputs": [
    {
     "data": {
      "text/plain": "['Vestibulum', 'pellentesque', 'facilisis', 'orci', 'convallis', 'vulputate']"
     },
     "execution_count": 46,
     "metadata": {},
     "output_type": "execute_result"
    }
   ]
  },
  {
   "cell_type": "markdown",
   "metadata": {
    "id": "SQDNZ3HQWhA3"
   },
   "source": [
    "**Задание**: вернуть список доменов (@gmail.com) из списка адресов электронной почты:\n",
    "\n",
    "```\n",
    "abc.test@gmail.com, xyz@test.in, test.first@analyticsvidhya.com, first.test@rest.biz\n",
    "```"
   ]
  },
  {
   "cell_type": "code",
   "execution_count": 54,
   "outputs": [
    {
     "data": {
      "text/plain": "['@gmail.com', '@test.in', '@analyticsvidhya.com', '@rest.biz']"
     },
     "execution_count": 54,
     "metadata": {},
     "output_type": "execute_result"
    }
   ],
   "source": [
    "re.findall(r'@[\\w.]+', 'abc.test@gmail.com, xyz@test.in, test.first@analyticsvidhya.com, first.test@rest.biz')"
   ],
   "metadata": {
    "collapsed": false
   }
  }
 ]
}
