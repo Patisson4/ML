{
 "nbformat": 4,
 "nbformat_minor": 0,
 "metadata": {
  "hide_input": false,
  "kernelspec": {
   "display_name": "Python 3",
   "language": "python",
   "name": "python3"
  },
  "language_info": {
   "codemirror_mode": {
    "name": "ipython",
    "version": 3
   },
   "file_extension": ".py",
   "mimetype": "text/x-python",
   "name": "python",
   "nbconvert_exporter": "python",
   "pygments_lexer": "ipython3",
   "version": "3.7.1"
  },
  "toc": {
   "base_numbering": 1,
   "nav_menu": {},
   "number_sections": true,
   "sideBar": true,
   "skip_h1_title": false,
   "title_cell": "Table of Contents",
   "title_sidebar": "Contents",
   "toc_cell": true,
   "toc_position": {},
   "toc_section_display": true,
   "toc_window_display": false
  },
  "varInspector": {
   "cols": {
    "lenName": 16,
    "lenType": 16,
    "lenVar": 40
   },
   "kernels_config": {
    "python": {
     "delete_cmd_postfix": "",
     "delete_cmd_prefix": "del ",
     "library": "var_list.py",
     "varRefreshCmd": "print(var_dic_list())"
    },
    "r": {
     "delete_cmd_postfix": ") ",
     "delete_cmd_prefix": "rm(",
     "library": "var_list.r",
     "varRefreshCmd": "cat(var_dic_list()) "
    }
   },
   "types_to_exclude": [
    "module",
    "function",
    "builtin_function_or_method",
    "instance",
    "_Feature"
   ],
   "window_display": false
  },
  "colab": {
   "provenance": [],
   "toc_visible": true,
   "include_colab_link": true
  }
 },
 "cells": [
  {
   "cell_type": "markdown",
   "metadata": {
    "id": "view-in-github",
    "colab_type": "text"
   },
   "source": [
    "<a href=\"https://colab.research.google.com/github/Patisson4/ML/blob/master/lab2.ipynb\" target=\"_parent\"><img src=\"https://colab.research.google.com/assets/colab-badge.svg\" alt=\"Open In Colab\"/></a>"
   ]
  },
  {
   "cell_type": "code",
   "metadata": {
    "ExecuteTime": {
     "end_time": "2020-04-23T10:16:05.965275Z",
     "start_time": "2020-04-23T10:16:05.312704Z"
    },
    "id": "bZ7J0si68JdT"
   },
   "source": [
    "import pandas as pd"
   ],
   "execution_count": 2,
   "outputs": []
  },
  {
   "cell_type": "code",
   "execution_count": null,
   "outputs": [],
   "source": [
    "!gdown 10J8RzMIhoYHiad49r-oWNMAk-V5lo3OE\n",
    "!gdown 1EP3KrATWS1I_qYdpRhYnSDl-eoBiOBQc\n",
    "!gdown 1lEpoRKczv5EvZhff9O2I-0JkdHnbe_Mq\n",
    "!gdown 1FG1fopcmvMZ7GBaBOqQipccSeFoMUvNT\n",
    "from google.colab import drive\n",
    "drive.mount(\"content/drive\")"
   ],
   "metadata": {
    "collapsed": false
   }
  },
  {
   "cell_type": "markdown",
   "metadata": {
    "id": "xjvL0IIG8Jd0"
   },
   "source": [
    "## Задание 0\n"
   ]
  },
  {
   "cell_type": "markdown",
   "metadata": {
    "id": "yaSxXHvxO0qo"
   },
   "source": [
    "Для всех  заданий будем использовать обезличенные транзакционные банковские данные. Для этого считайте в переменные **tr_mcc_codes, tr_types, transactions и gender_train** из одноимённых таблиц из папки [data](https://drive.google.com/drive/folders/1YAMe7MiTxA-RSSd8Ex2p-L0Dspe6Gs4L).\n",
    "\n",
    "Для таблицы transactions используйте только первые n=1000000 строк. При чтении файлов обратите внимание на разделители внутри каждого из файлов - они могут различаться!"
   ]
  },
  {
   "cell_type": "code",
   "execution_count": 3,
   "outputs": [],
   "source": [
    "tr_mcc_codes = pd.read_csv(r\"C:\\Users\\mdpol\\Downloads\\tr_mcc_codes.csv\", sep=\";\")\n",
    "tr_types = pd.read_csv(r\"C:\\Users\\mdpol\\Downloads\\tr_types.csv\", sep=\";\")\n",
    "transactions = pd.read_csv(r\"C:\\Users\\mdpol\\Downloads\\transactions.csv\", sep=\",\", nrows=1000000)\n",
    "gender_train = pd.read_csv(r\"C:\\Users\\mdpol\\Downloads\\gender_train.csv\", sep=\",\")"
   ],
   "metadata": {
    "collapsed": false
   }
  },
  {
   "cell_type": "markdown",
   "metadata": {
    "id": "oP3lX9xC8Jd8"
   },
   "source": [
    "###  Описание данных\n",
    "#### Таблица ```transactions.csv```\n",
    "##### Описание\n",
    "Таблица содержит историю транзакций клиентов банка за один год и три месяца.\n",
    "\n",
    "##### Формат данных\n",
    "\n",
    "```\n",
    "customer_id,tr_datetime,mcc_code,tr_type,amount,term_id\n",
    "111111,15 01:40:52,1111,1000,-5224,111111\n",
    "111112,15 15:18:32,3333,2000,-100,11122233\n",
    "...\n",
    "```\n",
    "##### Описание полей\n",
    "\n",
    " - ```customer_id``` — идентификатор клиента;\n",
    " - ```tr_datetime``` — день и время совершения транзакции (дни нумеруются с начала данных);\n",
    " - ```mcc_code``` — mcc-код транзакции;\n",
    " - ```tr_type``` — тип транзакции;\n",
    " - ```amount``` — сумма транзакции в условных единицах со знаком; ```+``` — начисление средств клиенту (приходная транзакция), ```-``` — списание средств (расходная транзакция);\n",
    " - ```term_id``` — идентификатор терминала;\n",
    "\n",
    "\n",
    "#### Таблица ```gender_train.csv```\n",
    "\n",
    "##### Описание\n",
    "Данная таблица содержит информацию по полу для части клиентов, для которых он известен. Для остальных клиентов пол неизвестен.\n",
    "\n",
    "##### Формат данных\n",
    "```\n",
    "customer_id,gender\n",
    "111111,0\n",
    "111112,1\n",
    "...\n",
    "```\n",
    "\n",
    "##### Описание полей\n",
    " - ```customer_id``` — идентификатор клиента;\n",
    " - ```gender``` — пол клиента;\n",
    "\n",
    "### Таблица ```tr_mcc_codes.csv```\n",
    "\n",
    "##### Описание\n",
    "Данная таблица содержит описание mcc-кодов транзакций.\n",
    "\n",
    "##### Формат данных\n",
    "```\n",
    "mcc_code;mcc_description\n",
    "1000;словесное описание mcc-кода 1000\n",
    "2000;словесное описание mcc-кода 2000\n",
    "...\n",
    "```\n",
    "\n",
    "##### Описание полей\n",
    " - ```mcc_code``` – mcc-код транзакции;\n",
    " - ```mcc_description``` — описание mcc-кода транзакции.\n",
    "\n",
    "#### Таблица ```tr_types.csv```\n",
    "\n",
    "##### Описание\n",
    "Данная таблица содержит описание типов транзакций.\n",
    "\n",
    "##### Формат данных\n",
    "```\n",
    "tr_type;tr_description\n",
    "1000;словесное описание типа транзакции 1000\n",
    "2000;словесное описание типа транзакции 2000\n",
    "...\n",
    "```\n",
    "\n",
    "##### Описание полей\n",
    " - ```tr_type``` – тип транзакции;\n",
    " - ```tr_description``` — описание типа транзакции;"
   ]
  },
  {
   "cell_type": "markdown",
   "metadata": {
    "id": "04CYsBKz8JeB"
   },
   "source": [
    "\n",
    "Задания 1-4 делаются без использования merge!\n",
    "\n",
    "## Задание 1\n",
    "\n"
   ]
  },
  {
   "cell_type": "markdown",
   "metadata": {
    "id": "1hcrfwsYN_Yz"
   },
   "source": [
    "1. Для столбца tr_type датафрейма transactions выберите произвольные 1000 строк с помощью метода sample\n",
    "2. В полученной на предыдущем этапе подвыборке найдите долю транзакций (стобец tr_description в датасете tr_types), в которой содержится подстрока 'POS' или 'ATM'\n"
   ]
  },
  {
   "cell_type": "code",
   "execution_count": 6,
   "outputs": [
    {
     "data": {
      "text/plain": "0.632"
     },
     "execution_count": 6,
     "metadata": {},
     "output_type": "execute_result"
    }
   ],
   "source": [
    "sample = pd.DataFrame(transactions.tr_type.sample(1000))\n",
    "types = tr_types[tr_types.tr_description.str.contains('POS|АТМ', regex=True)]\n",
    "\n",
    "len(sample[sample.tr_type.isin(types.tr_type)]) / len(sample)"
   ],
   "metadata": {
    "collapsed": false
   }
  },
  {
   "cell_type": "markdown",
   "metadata": {
    "id": "fiZBDIZt8JeS"
   },
   "source": [
    "## Задание 2 \n"
   ]
  },
  {
   "cell_type": "markdown",
   "metadata": {
    "id": "FFKeBUThOCrz"
   },
   "source": [
    "1. Для столбца tr_type датафрейма transactions посчитайте частоту встречаемости всех типов транзакций tr_type в transactions.\n",
    "2. Выведите топ-10 транзакций по частоте встречаемости (вывести для них tr_description тоже)."
   ]
  },
  {
   "cell_type": "code",
   "execution_count": 7,
   "outputs": [
    {
     "data": {
      "text/plain": "     tr_type                                     tr_description\n98      1010                              Покупка. POS ТУ СБ РФ\n99      1030                     Оплата услуги. Банкоматы СБ РФ\n100     1100                                Покупка. ТУ  Россия\n101     1110                             Покупка. POS ТУ Россия\n106     2010              Выдача наличных в АТМ Сбербанк России\n129     2370  Списание с карты на карту по операции <перевод...\n39      7010       Взнос наличных через АТМ (в своем тер.банке)\n47      7030  Перевод на карту (с карты) через АТМ (в предел...\n59      7070  Перевод на карту (с карты) через Мобильный бан...\n60      7071  Перевод на карту (с карты) через Мобильный бан...",
      "text/html": "<div>\n<style scoped>\n    .dataframe tbody tr th:only-of-type {\n        vertical-align: middle;\n    }\n\n    .dataframe tbody tr th {\n        vertical-align: top;\n    }\n\n    .dataframe thead th {\n        text-align: right;\n    }\n</style>\n<table border=\"1\" class=\"dataframe\">\n  <thead>\n    <tr style=\"text-align: right;\">\n      <th></th>\n      <th>tr_type</th>\n      <th>tr_description</th>\n    </tr>\n  </thead>\n  <tbody>\n    <tr>\n      <th>98</th>\n      <td>1010</td>\n      <td>Покупка. POS ТУ СБ РФ</td>\n    </tr>\n    <tr>\n      <th>99</th>\n      <td>1030</td>\n      <td>Оплата услуги. Банкоматы СБ РФ</td>\n    </tr>\n    <tr>\n      <th>100</th>\n      <td>1100</td>\n      <td>Покупка. ТУ  Россия</td>\n    </tr>\n    <tr>\n      <th>101</th>\n      <td>1110</td>\n      <td>Покупка. POS ТУ Россия</td>\n    </tr>\n    <tr>\n      <th>106</th>\n      <td>2010</td>\n      <td>Выдача наличных в АТМ Сбербанк России</td>\n    </tr>\n    <tr>\n      <th>129</th>\n      <td>2370</td>\n      <td>Списание с карты на карту по операции &lt;перевод...</td>\n    </tr>\n    <tr>\n      <th>39</th>\n      <td>7010</td>\n      <td>Взнос наличных через АТМ (в своем тер.банке)</td>\n    </tr>\n    <tr>\n      <th>47</th>\n      <td>7030</td>\n      <td>Перевод на карту (с карты) через АТМ (в предел...</td>\n    </tr>\n    <tr>\n      <th>59</th>\n      <td>7070</td>\n      <td>Перевод на карту (с карты) через Мобильный бан...</td>\n    </tr>\n    <tr>\n      <th>60</th>\n      <td>7071</td>\n      <td>Перевод на карту (с карты) через Мобильный бан...</td>\n    </tr>\n  </tbody>\n</table>\n</div>"
     },
     "execution_count": 7,
     "metadata": {},
     "output_type": "execute_result"
    }
   ],
   "source": [
    "top_transactions = transactions.groupby(\"tr_type\").size().sort_values(ascending=False).head(10)\n",
    "tr_types[tr_types.tr_type.isin(top_transactions.index)].sort_values(\"tr_type\")"
   ],
   "metadata": {
    "collapsed": false
   }
  },
  {
   "cell_type": "markdown",
   "metadata": {
    "id": "mktm_JeA8JeX"
   },
   "source": [
    "## Задание 3\n",
    "1. В датафрейме transactions найдите клиента с максимальной суммой приходов на карту\n",
    "2. В датафрейме transactions найдите клиента с максимальной суммой расходов по карте\n",
    "3. Найдите модуль разницы для этих клиентов между суммой расходов и суммой приходов"
   ]
  },
  {
   "cell_type": "code",
   "execution_count": 36,
   "outputs": [
    {
     "name": "stdout",
     "output_type": "stream",
     "text": [
      "70780820\n",
      "70780820\n",
      "1837317.980000019\n"
     ]
    }
   ],
   "source": [
    "min_client = transactions[transactions.amount < 0].groupby(\"customer_id\").sum().amount.sort_values().head(1)\n",
    "max_client = transactions[transactions.amount > 0].groupby(\"customer_id\").sum().amount.sort_values().tail(1)\n",
    "\n",
    "print(min_client.idxmin().item(), max_client.idxmax().item(), abs(min_client + max_client).item(), sep='\\n')"
   ],
   "metadata": {
    "collapsed": false
   }
  },
  {
   "cell_type": "markdown",
   "metadata": {
    "id": "BYrJ5b_E8Jee"
   },
   "source": [
    "## Задание 4\n",
    "1. Найдите среднее арифметическое и медиану по amount по всем типам транзакций из топ 10 из задания 2\n",
    "2. Найдите среднее арифметическое и медиану по amount по всем типам транзакций для клиентов из задания 3"
   ]
  },
  {
   "cell_type": "code",
   "execution_count": 37,
   "outputs": [
    {
     "data": {
      "text/plain": "                  mean     median\ntr_type                          \n1010     -19784.748640   -7411.52\n1030      -5320.980222   -2245.92\n1100     -44061.827262  -10188.26\n1110     -32119.330371  -11207.57\n2010    -136077.629325  -44918.32\n2370    -205418.249032  -44918.32\n7010     276391.789596  112295.79\n7030      86104.332909   13951.52\n7070      65569.831700   11319.42\n7071      66806.826623    3593.47",
      "text/html": "<div>\n<style scoped>\n    .dataframe tbody tr th:only-of-type {\n        vertical-align: middle;\n    }\n\n    .dataframe tbody tr th {\n        vertical-align: top;\n    }\n\n    .dataframe thead th {\n        text-align: right;\n    }\n</style>\n<table border=\"1\" class=\"dataframe\">\n  <thead>\n    <tr style=\"text-align: right;\">\n      <th></th>\n      <th>mean</th>\n      <th>median</th>\n    </tr>\n    <tr>\n      <th>tr_type</th>\n      <th></th>\n      <th></th>\n    </tr>\n  </thead>\n  <tbody>\n    <tr>\n      <th>1010</th>\n      <td>-19784.748640</td>\n      <td>-7411.52</td>\n    </tr>\n    <tr>\n      <th>1030</th>\n      <td>-5320.980222</td>\n      <td>-2245.92</td>\n    </tr>\n    <tr>\n      <th>1100</th>\n      <td>-44061.827262</td>\n      <td>-10188.26</td>\n    </tr>\n    <tr>\n      <th>1110</th>\n      <td>-32119.330371</td>\n      <td>-11207.57</td>\n    </tr>\n    <tr>\n      <th>2010</th>\n      <td>-136077.629325</td>\n      <td>-44918.32</td>\n    </tr>\n    <tr>\n      <th>2370</th>\n      <td>-205418.249032</td>\n      <td>-44918.32</td>\n    </tr>\n    <tr>\n      <th>7010</th>\n      <td>276391.789596</td>\n      <td>112295.79</td>\n    </tr>\n    <tr>\n      <th>7030</th>\n      <td>86104.332909</td>\n      <td>13951.52</td>\n    </tr>\n    <tr>\n      <th>7070</th>\n      <td>65569.831700</td>\n      <td>11319.42</td>\n    </tr>\n    <tr>\n      <th>7071</th>\n      <td>66806.826623</td>\n      <td>3593.47</td>\n    </tr>\n  </tbody>\n</table>\n</div>"
     },
     "execution_count": 37,
     "metadata": {},
     "output_type": "execute_result"
    }
   ],
   "source": [
    "grouped_top10 = transactions[transactions.tr_type.isin(top_transactions.index)].groupby(\"tr_type\")\n",
    "mean = grouped_top10.mean().amount\n",
    "median = grouped_top10.median().amount\n",
    "pd.concat([mean, median], axis=1, keys=[\"mean\", \"median\"])"
   ],
   "metadata": {
    "collapsed": false
   }
  },
  {
   "cell_type": "code",
   "execution_count": 38,
   "outputs": [
    {
     "data": {
      "text/plain": "                 mean       median\ntr_type                           \n2010    -2.941056e+06 -3368873.660\n2330    -2.382398e+06 -2245915.770\n2370    -2.218505e+06 -2245915.770\n6110     1.756293e+04    10028.010\n7020     1.465129e+04    10319.985\n7021     2.850067e+04    28500.670\n7030     1.406196e+04     8848.910\n7031     1.921036e+04    12992.620\n7034     1.430648e+04    14306.480\n7040     2.153833e+04    14396.320\n7070     1.384821e+04     8714.150\n7071     1.860057e+04    12543.440\n7074     2.281159e+04     9387.930",
      "text/html": "<div>\n<style scoped>\n    .dataframe tbody tr th:only-of-type {\n        vertical-align: middle;\n    }\n\n    .dataframe tbody tr th {\n        vertical-align: top;\n    }\n\n    .dataframe thead th {\n        text-align: right;\n    }\n</style>\n<table border=\"1\" class=\"dataframe\">\n  <thead>\n    <tr style=\"text-align: right;\">\n      <th></th>\n      <th>mean</th>\n      <th>median</th>\n    </tr>\n    <tr>\n      <th>tr_type</th>\n      <th></th>\n      <th></th>\n    </tr>\n  </thead>\n  <tbody>\n    <tr>\n      <th>2010</th>\n      <td>-2.941056e+06</td>\n      <td>-3368873.660</td>\n    </tr>\n    <tr>\n      <th>2330</th>\n      <td>-2.382398e+06</td>\n      <td>-2245915.770</td>\n    </tr>\n    <tr>\n      <th>2370</th>\n      <td>-2.218505e+06</td>\n      <td>-2245915.770</td>\n    </tr>\n    <tr>\n      <th>6110</th>\n      <td>1.756293e+04</td>\n      <td>10028.010</td>\n    </tr>\n    <tr>\n      <th>7020</th>\n      <td>1.465129e+04</td>\n      <td>10319.985</td>\n    </tr>\n    <tr>\n      <th>7021</th>\n      <td>2.850067e+04</td>\n      <td>28500.670</td>\n    </tr>\n    <tr>\n      <th>7030</th>\n      <td>1.406196e+04</td>\n      <td>8848.910</td>\n    </tr>\n    <tr>\n      <th>7031</th>\n      <td>1.921036e+04</td>\n      <td>12992.620</td>\n    </tr>\n    <tr>\n      <th>7034</th>\n      <td>1.430648e+04</td>\n      <td>14306.480</td>\n    </tr>\n    <tr>\n      <th>7040</th>\n      <td>2.153833e+04</td>\n      <td>14396.320</td>\n    </tr>\n    <tr>\n      <th>7070</th>\n      <td>1.384821e+04</td>\n      <td>8714.150</td>\n    </tr>\n    <tr>\n      <th>7071</th>\n      <td>1.860057e+04</td>\n      <td>12543.440</td>\n    </tr>\n    <tr>\n      <th>7074</th>\n      <td>2.281159e+04</td>\n      <td>9387.930</td>\n    </tr>\n  </tbody>\n</table>\n</div>"
     },
     "execution_count": 38,
     "metadata": {},
     "output_type": "execute_result"
    }
   ],
   "source": [
    "grouped_minmax = transactions[transactions.customer_id.isin(min_client.index) | transactions.customer_id.isin(max_client.index)].groupby(\"tr_type\")\n",
    "mean = grouped_minmax.mean().amount\n",
    "median = grouped_minmax.median().amount\n",
    "pd.concat([mean, median], axis=1, keys=[\"mean\", \"median\"])"
   ],
   "metadata": {
    "collapsed": false
   }
  },
  {
   "cell_type": "markdown",
   "metadata": {
    "id": "BYXwM4l3QDBu"
   },
   "source": [
    "## Подготовка для заданий 5-8"
   ]
  },
  {
   "cell_type": "markdown",
   "metadata": {
    "id": "XWQzFeKcQHRe"
   },
   "source": [
    "*Из заданий 5-8 нужно выполнить минимум два любых*\n",
    "\n",
    "Соедините transactions с всеми остальными таблицами (tr_mcc_codes, tr_types, gender_train). Причём с gender_train необходимо смёрджиться с помощью left join, а с оставшимися датафреймами - через inner.\n",
    "После получения результата таблицы gender_train, tr_types, tr_mcc_codes можно удалить. В результате соединения датафреймов должно получиться 999584 строки."
   ]
  },
  {
   "cell_type": "code",
   "metadata": {
    "id": "sndJxjJ7QQf5"
   },
   "source": [
    "transactions = pd.merge(transactions, gender_train, how='left')\n",
    "transactions = pd.merge(transactions, tr_mcc_codes, how='inner')\n",
    "transactions = pd.merge(transactions, tr_types, how='inner')\n",
    "transactions.shape"
   ],
   "execution_count": 10,
   "outputs": [
    {
     "data": {
      "text/plain": "(999584, 9)"
     },
     "execution_count": 10,
     "metadata": {},
     "output_type": "execute_result"
    }
   ]
  },
  {
   "cell_type": "markdown",
   "metadata": {
    "id": "8vrFauJ8QgmT"
   },
   "source": [
    "## Задание 5"
   ]
  },
  {
   "cell_type": "markdown",
   "metadata": {
    "id": "rOjEQ5xyQfE_"
   },
   "source": [
    "1. Определите модуль разницы между средними тратами женщин и мужчин (трата - отрицательное значение amount).\n",
    "2. Определите модуль разницы между средними поступлениями у мужчин и женщин\n",
    "\n",
    "Обратите внимание, что для вычисления модуля разности точных знаний о том, \n",
    "какой класc относится к мужчинам, а какой - к женщинам, не требуется."
   ]
  },
  {
   "cell_type": "code",
   "execution_count": 39,
   "outputs": [
    {
     "data": {
      "text/plain": "32718.054920224655"
     },
     "execution_count": 39,
     "metadata": {},
     "output_type": "execute_result"
    }
   ],
   "source": [
    "credit = transactions[transactions.amount < 0].groupby(\"gender\").amount.mean()\n",
    "abs(credit[0] - credit[1])"
   ],
   "metadata": {
    "collapsed": false
   }
  },
  {
   "cell_type": "code",
   "execution_count": 40,
   "outputs": [
    {
     "data": {
      "text/plain": "63366.57104801464"
     },
     "execution_count": 40,
     "metadata": {},
     "output_type": "execute_result"
    }
   ],
   "source": [
    "debit = transactions[transactions.amount > 0].groupby(\"gender\").amount.mean()\n",
    "abs(debit[0] - debit[1])"
   ],
   "metadata": {
    "collapsed": false
   }
  },
  {
   "cell_type": "markdown",
   "metadata": {
    "id": "DSHFLbepQ7G1"
   },
   "source": [
    "## Задание 6"
   ]
  },
  {
   "cell_type": "markdown",
   "metadata": {
    "id": "2EF1490bQ-17"
   },
   "source": [
    "1. По всем типам транзакций рассчитайте максимальную сумму прихода на карту (из строго положительных сумм по столбцу amount) отдельно для мужчин и женщин (назовите ее \"max_income\"). Оставьте по 10 типов транзакций для мужчин и для женщин, наименьших среди всех типов транзакций по полученным значениям \"max_income\". \n",
    "2. Выделите среди них те типы транзакций, которые встречаются одновременно и у мужчин, и у женщин"
   ]
  },
  {
   "cell_type": "code",
   "execution_count": 41,
   "outputs": [
    {
     "data": {
      "text/plain": "   tr_type\n0  1100       2097006.17\n   1200        575551.85\n   1110        393035.26\n   2331        112295.79\n   1210         83644.87\n   2210         68315.82\n   2010         44918.32\n   1010         24839.83\n   2110         22459.16\n   2370          2335.75\n1  1200        413248.50\n   1110        221222.70\n   1100        163727.26\n   1210        159026.11\n   2370        113194.15\n   2110        112295.79\n   2010         89836.63\n   1010         28803.87\n   2020          2245.92\n   4110          2245.92\nName: amount, dtype: float64"
     },
     "execution_count": 41,
     "metadata": {},
     "output_type": "execute_result"
    }
   ],
   "source": [
    "grouped_gt = transactions[transactions.amount > 0].groupby([\"gender\", \"tr_type\"]).amount.max()\n",
    "gen_0_max = grouped_gt[0].head(10).sort_values(ascending=False)\n",
    "gen_1_max = grouped_gt[1].head(10).sort_values(ascending=False)\n",
    "max_income = pd.concat([gen_0_max, gen_1_max], keys=[0, 1])\n",
    "max_income"
   ],
   "metadata": {
    "collapsed": false
   }
  },
  {
   "cell_type": "code",
   "execution_count": 42,
   "outputs": [
    {
     "data": {
      "text/plain": "0    1100\n1    1200\n2    1110\n3    1210\n4    2010\n5    1010\n6    2110\n7    2370\nName: tr_type, dtype: int64"
     },
     "execution_count": 42,
     "metadata": {},
     "output_type": "execute_result"
    }
   ],
   "source": [
    "gen_0_max[gen_0_max.index.isin(gen_1_max.index)].reset_index().tr_type"
   ],
   "metadata": {
    "collapsed": false
   }
  },
  {
   "cell_type": "markdown",
   "metadata": {
    "id": "W-LaVwRdR3UB"
   },
   "source": [
    "## Задание 7"
   ]
  },
  {
   "cell_type": "markdown",
   "metadata": {
    "id": "rhI4NOciR7e0"
   },
   "source": [
    "1. Найдите суммы затрат по каждой категории (mcc) для мужчин и для женщин. \n",
    "2. Найдите топ 10 категорий с самыми большими относительными модулями разности в тратах для разных полов (в ответе должны присутствовать описания mcc кодов)."
   ]
  },
  {
   "cell_type": "code",
   "execution_count": 43,
   "outputs": [
    {
     "data": {
      "text/plain": "gender  mcc_code\n0.0     742          -386207.68\n        1711         -674897.69\n        1799         -261626.73\n        2741          -20746.42\n        3000       -74431645.27\n                       ...     \n1.0     8999       -28643346.63\n        9222         -988205.17\n        9311         -373271.22\n        9399        -1810820.67\n        9402           -4581.67\nName: amount, Length: 349, dtype: float64"
     },
     "execution_count": 43,
     "metadata": {},
     "output_type": "execute_result"
    }
   ],
   "source": [
    "costs = transactions[transactions.amount < 0].groupby([\"gender\", \"mcc_code\"]).amount.sum()\n",
    "costs"
   ],
   "metadata": {
    "collapsed": false
   }
  },
  {
   "cell_type": "code",
   "execution_count": 44,
   "outputs": [
    {
     "data": {
      "text/plain": "     mcc_code                                    mcc_description\n22       4829                                  Денежные переводы\n62       5511  Легковой и грузовой транспорт — продажа, серви...\n64       5533                          Автозапчасти и аксессуары\n65       5541                            Станции техобслуживания\n75       5661                                   Обувные магазины\n90       5812             Места общественного питания, рестораны\n116      5977                                 Магазины косметики\n123      6010   Финансовые институты — снятие наличности вручную\n124      6011  Финансовые институты — снятие наличности автом...\n162      7995                       Транзакции по азартным играм",
      "text/html": "<div>\n<style scoped>\n    .dataframe tbody tr th:only-of-type {\n        vertical-align: middle;\n    }\n\n    .dataframe tbody tr th {\n        vertical-align: top;\n    }\n\n    .dataframe thead th {\n        text-align: right;\n    }\n</style>\n<table border=\"1\" class=\"dataframe\">\n  <thead>\n    <tr style=\"text-align: right;\">\n      <th></th>\n      <th>mcc_code</th>\n      <th>mcc_description</th>\n    </tr>\n  </thead>\n  <tbody>\n    <tr>\n      <th>22</th>\n      <td>4829</td>\n      <td>Денежные переводы</td>\n    </tr>\n    <tr>\n      <th>62</th>\n      <td>5511</td>\n      <td>Легковой и грузовой транспорт — продажа, серви...</td>\n    </tr>\n    <tr>\n      <th>64</th>\n      <td>5533</td>\n      <td>Автозапчасти и аксессуары</td>\n    </tr>\n    <tr>\n      <th>65</th>\n      <td>5541</td>\n      <td>Станции техобслуживания</td>\n    </tr>\n    <tr>\n      <th>75</th>\n      <td>5661</td>\n      <td>Обувные магазины</td>\n    </tr>\n    <tr>\n      <th>90</th>\n      <td>5812</td>\n      <td>Места общественного питания, рестораны</td>\n    </tr>\n    <tr>\n      <th>116</th>\n      <td>5977</td>\n      <td>Магазины косметики</td>\n    </tr>\n    <tr>\n      <th>123</th>\n      <td>6010</td>\n      <td>Финансовые институты — снятие наличности вручную</td>\n    </tr>\n    <tr>\n      <th>124</th>\n      <td>6011</td>\n      <td>Финансовые институты — снятие наличности автом...</td>\n    </tr>\n    <tr>\n      <th>162</th>\n      <td>7995</td>\n      <td>Транзакции по азартным играм</td>\n    </tr>\n  </tbody>\n</table>\n</div>"
     },
     "execution_count": 44,
     "metadata": {},
     "output_type": "execute_result"
    }
   ],
   "source": [
    "top10_costs = abs(costs[0] - costs[1]).sort_values(ascending=False).head(10)\n",
    "tr_mcc_codes[tr_mcc_codes.mcc_code.isin(top10_costs.index)]"
   ],
   "metadata": {
    "collapsed": false
   }
  },
  {
   "cell_type": "markdown",
   "metadata": {
    "id": "aGaPkQkVSvl8"
   },
   "source": [
    "## Задание 8"
   ]
  },
  {
   "cell_type": "markdown",
   "metadata": {
    "id": "T7Ox1qAXTHQl"
   },
   "source": [
    "1. Из поля tr_datetime выделите час tr_hour, в который произошла транзакция, как первые 2 цифры до \":\". (\\**)\n",
    "2. Посчитайте количество транзакций с amount<0 в ночное время для мужчин и женщин. Ночное время - это примерно 00-06 часов."
   ]
  },
  {
   "cell_type": "code",
   "execution_count": 45,
   "outputs": [
    {
     "data": {
      "text/plain": "0         10\n1         07\n2         07\n3         08\n4         14\n          ..\n999579    23\n999580    19\n999581    22\n999582    23\n999583    23\nName: tr_hour, Length: 999584, dtype: object"
     },
     "execution_count": 45,
     "metadata": {},
     "output_type": "execute_result"
    }
   ],
   "source": [
    "transactions[[\"tr_date\", \"tr_time\"]] = transactions.tr_datetime.str.split(\" \", expand=True)\n",
    "transactions[[\"tr_hour\", \"tr_minute\", \"tr_second\"]] = transactions.tr_time.str.split(\":\", expand=True)\n",
    "transactions.tr_hour"
   ],
   "metadata": {
    "collapsed": false
   }
  },
  {
   "cell_type": "code",
   "execution_count": 47,
   "outputs": [
    {
     "data": {
      "text/plain": "gender\n0.0    43510\n1.0    46694\nName: amount, dtype: int64"
     },
     "execution_count": 47,
     "metadata": {},
     "output_type": "execute_result"
    }
   ],
   "source": [
    "transactions[(transactions.tr_hour < \"07\") & (transactions.amount < 0)].groupby(\"gender\").amount.count()"
   ],
   "metadata": {
    "collapsed": false
   }
  }
 ]
}
