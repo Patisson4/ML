{
 "nbformat": 4,
 "nbformat_minor": 0,
 "metadata": {
  "colab": {
   "provenance": [],
   "collapsed_sections": [
    "MFKSC2UUA7Ne",
    "Mth2u7nzAiqw",
    "JrEY8hzdfmM2",
    "mrm41pzufmNy",
    "2kJObRBHfmOd",
    "ylh_09YIfmOg",
    "QeBH-jT4fmOy"
   ],
   "include_colab_link": true
  },
  "kernelspec": {
   "display_name": "Python 3",
   "language": "python",
   "name": "python3"
  },
  "language_info": {
   "codemirror_mode": {
    "name": "ipython",
    "version": 3
   },
   "file_extension": ".py",
   "mimetype": "text/x-python",
   "name": "python",
   "nbconvert_exporter": "python",
   "pygments_lexer": "ipython3",
   "version": "3.7.4"
  }
 },
 "cells": [
  {
   "cell_type": "markdown",
   "metadata": {
    "id": "view-in-github",
    "colab_type": "text"
   },
   "source": [
    "<a href=\"https://colab.research.google.com/github/Patisson4/ML/blob/lab-1/lab1.ipynb\" target=\"_parent\"><img src=\"https://colab.research.google.com/assets/colab-badge.svg\" alt=\"Open In Colab\"/></a>"
   ]
  },
  {
   "cell_type": "markdown",
   "source": [
    "Перед началом выполнения, сделайте копию этого colab'а. Чтобы сделать копию нужно в пункте меню Файл выбрать \"Сохранить копию на диске\""
   ],
   "metadata": {
    "id": "131T1pm5PaF4"
   }
  },
  {
   "cell_type": "code",
   "execution_count": 12,
   "outputs": [],
   "source": [
    "import numpy as np\n",
    "import scipy.optimize as opt\n",
    "import matplotlib.pyplot as plt"
   ],
   "metadata": {
    "collapsed": false
   }
  },
  {
   "cell_type": "markdown",
   "metadata": {
    "id": "BsNwjQDRfmLY"
   },
   "source": [
    "# Задание 1"
   ]
  },
  {
   "cell_type": "markdown",
   "metadata": {
    "id": "wu6r1-s7fmLe"
   },
   "source": [
    "---"
   ]
  },
  {
   "cell_type": "markdown",
   "metadata": {
    "id": "zxRIdPO9gYyX"
   },
   "source": [
    "Напишите программу, которая будет решать систему линейных уравнений вида:\n",
    "\n",
    "\\begin{matrix} a_{11}x+a_{12}y=b_{1}&(1) \\\\ a_{21}x+a_{22}y=b_{2} &(2) \\end{matrix}\n",
    "​\t\n",
    "На вход программа должна принимать 2 строки.\n",
    "\n",
    "Каждая строка содержит 3 действительных числа через пробел: коэффициенты a и b.\n",
    "\n",
    "На выходе программа должна выдавать значения x и y в одну строку через пробел.\n",
    " \n",
    "\n",
    "Примечание 1. Для разделения строки на отдельные элементы используйте функцию split()\n",
    "\n",
    "Примечание 2. В качестве разделителя между целой и дробной частью используйте точку, например 0.2"
   ]
  },
  {
   "cell_type": "code",
   "metadata": {
    "id": "6sxlcLbVlrjl"
   },
   "source": [
    "def linan(n):\n",
    "    if not isinstance(n, int) or n < 1:\n",
    "        raise ArithmeticError(\"Dimensions must be a non-negative integer\")\n",
    "\n",
    "    A = np.zeros([n, n])\n",
    "    B = np.zeros(n)\n",
    "\n",
    "    for i in range(n):\n",
    "        arguments = list(map(int, input(\"Enter coefficients: \").split(' ')))\n",
    "        A[i] = arguments[:-1]\n",
    "        B[i] = arguments[-1]\n",
    "\n",
    "    return np.linalg.solve(A, B)\n",
    "\n",
    "\n",
    "print(linan(2))"
   ],
   "execution_count": 13,
   "outputs": [
    {
     "name": "stdout",
     "output_type": "stream",
     "text": [
      "[-1.  2.]\n"
     ]
    }
   ]
  },
  {
   "cell_type": "markdown",
   "metadata": {
    "id": "wLoVDMQnfmOv"
   },
   "source": [
    "# Задание 2"
   ]
  },
  {
   "cell_type": "markdown",
   "metadata": {
    "id": "6bmt_YF3fmOw"
   },
   "source": [
    "Напишите функцию `decorate_matrix`, которая получает на вход одно целое число больше единицы. Функция должна возвращать матрицу n на n, у которой на границах стоят единицы, а на всех остальных позициях(если остались позиции не на границах) стоят нули.\n",
    "\n",
    "Нужно сделать без использования циклов.\n",
    "\n",
    "```\n",
    "# ожидаемый резальтат для аргумента 5\n",
    "array([[1., 1., 1., 1., 1.],\n",
    "[1., 0., 0., 0., 1.],\n",
    "[1., 0., 0., 0., 1.],\n",
    "[1., 0., 0., 0., 1.],\n",
    "[1., 1., 1., 1., 1.]])\n",
    "```"
   ]
  },
  {
   "cell_type": "code",
   "execution_count": 14,
   "outputs": [
    {
     "name": "stdout",
     "output_type": "stream",
     "text": [
      "[[1. 1. 1. 1. 1.]\n",
      " [1. 0. 0. 0. 1.]\n",
      " [1. 0. 0. 0. 1.]\n",
      " [1. 0. 0. 0. 1.]\n",
      " [1. 1. 1. 1. 1.]]\n"
     ]
    }
   ],
   "source": [
    "def borders(n):\n",
    "    if not isinstance(n, int) or n < 1:\n",
    "        raise ArithmeticError(\"dimensions must be a non-negative integer\")\n",
    "\n",
    "    result = np.zeros([n, n])\n",
    "\n",
    "    result[:, 0] = 1\n",
    "    result[:, -1] = 1\n",
    "    result[0, :] = 1\n",
    "    result[-1, :] = 1\n",
    "\n",
    "    return result\n",
    "\n",
    "\n",
    "print(borders(int(input(\"Enter dimensions: \"))))"
   ],
   "metadata": {
    "collapsed": false
   }
  },
  {
   "cell_type": "markdown",
   "metadata": {
    "id": "75sxny1zSCbl"
   },
   "source": [
    "# Задание 3"
   ]
  },
  {
   "cell_type": "markdown",
   "metadata": {
    "id": "2Xq1tBBAS5UJ"
   },
   "source": [
    "1) реализуйте 2 функции:\n",
    "\n",
    "$f(x) = (x+a)^2 - b$ \n",
    "\n",
    "$g(x) = |f(x)|$\n",
    "\n",
    "2) Найдите аргументы, при которых достигается минимум функций $f(x)$ и $g(x)$\n",
    "\n",
    "Пример. \n",
    "Входные значение: $a=3$ и $b=4$\n",
    "\n",
    "Выходные значения:\n",
    "\n",
    "`-3.0 -1.0`"
   ]
  },
  {
   "cell_type": "code",
   "execution_count": 39,
   "outputs": [
    {
     "name": "stdout",
     "output_type": "stream",
     "text": [
      "-3.0 [-5. -1.]\n"
     ]
    }
   ],
   "source": [
    "def f(a, b):\n",
    "    return lambda x: (x + a) ** 2 - b\n",
    "\n",
    "\n",
    "def g(a, b):\n",
    "    return lambda x: np.abs(f(a, b)(x))\n",
    "\n",
    "\n",
    "a, b = map(int, input(\"Enter parameters\").split(\" \"))\n",
    "f_x = opt.minimize(f(a, b), np.zeros(1)).x[0]\n",
    "g_x = np.asarray([opt.minimize(g(a, b), np.zeros(1)).x[0]])\n",
    "\n",
    "if b > 0:\n",
    "\n",
    "    g_x = np.sort(np.append(g_x, -2 * a - g_x[0]))\n",
    "    # if g_x > -a:\n",
    "    #     g_x_2 = (-a - (g_x - a))\n",
    "    # else:\n",
    "    #     g_x_2 = (-a + (-a - g_x))\n",
    "print(np.round(f_x), np.round(g_x))"
   ],
   "metadata": {
    "collapsed": false
   }
  },
  {
   "cell_type": "markdown",
   "metadata": {
    "id": "efml9GzISC9Q"
   },
   "source": [
    "# Задание 4"
   ]
  },
  {
   "cell_type": "markdown",
   "metadata": {
    "id": "SDZvKcsTVbAW"
   },
   "source": [
    "Постройте графики для функций из предыдущего задания и отметьте другим цветом на графиках точки найденных минимумов."
   ]
  },
  {
   "cell_type": "code",
   "execution_count": 40,
   "outputs": [
    {
     "data": {
      "text/plain": "<Figure size 432x288 with 1 Axes>",
      "image/png": "[encoded data removed]"
     },
     "metadata": {
      "needs_background": "light"
     },
     "output_type": "display_data"
    }
   ],
   "source": [
    "def min_f_graph():\n",
    "    x = np.linspace(-10, 10, 100)\n",
    "    y = list(map(f(a, b), x))\n",
    "    plt.plot(x, y)\n",
    "    plt.scatter(f_x, f(a, b)(f_x), c=\"#f00\")\n",
    "\n",
    "min_f_graph()"
   ],
   "metadata": {
    "collapsed": false
   }
  },
  {
   "cell_type": "code",
   "execution_count": 41,
   "outputs": [
    {
     "data": {
      "text/plain": "<Figure size 432x288 with 1 Axes>",
      "image/png": "[encoded data removed]"
     },
     "metadata": {
      "needs_background": "light"
     },
     "output_type": "display_data"
    }
   ],
   "source": [
    "def min_g_graph():\n",
    "    x = np.linspace(-10, 10, 100)\n",
    "    y = list(map(g(a, b), x))\n",
    "    plt.plot(x, y)\n",
    "    plt.scatter(g_x[0], g(a, b)(g_x[0]), c=\"#f00\")\n",
    "    plt.scatter(g_x[1], g(a, b)(g_x[1]), c=\"#f00\")\n",
    "\n",
    "min_g_graph()"
   ],
   "metadata": {
    "collapsed": false
   }
  },
  {
   "cell_type": "markdown",
   "metadata": {
    "id": "mrby3EfiSDKJ"
   },
   "source": [
    "# Задание 5"
   ]
  },
  {
   "cell_type": "markdown",
   "metadata": {
    "id": "J6AZ8785VkQd"
   },
   "source": [
    "1000 человек бросают монетку. Каждый бросил 10 раз подряд.\n",
    "\n",
    " 1. Какова вероятность того, что хотя бы у одного человека монетка выпала 10 раз подряд той же самой стороной (орлом или решкой)? \n",
    " 2. Какова вероятность того, что хотя бы у одного человека монетка выпала 8 раз подряд той же самой стороной (орлом или решкой)? \n",
    " 3. Какова вероятность того, что ровно у троих человек из 1000 монетка выпала 10 раз подряд той же самой стороной (орлом или решкой)?"
   ]
  },
  {
   "cell_type": "markdown",
   "source": [
    "## Пункт 1\n",
    "Шанс выпадения монетки одной стороной 10 раз для одного человека:\n",
    "$$\\frac{2 * \\binom{10}{10}}{2^{10}} = \\frac{1}{512}$$\n",
    "\n",
    "Тогда шанс **не**выпадения монетки одной стороной 10 раз для 1000 человек:\n",
    "$$\\left(1 - \\frac{1}{512}\\right)^{1000} \\approx 0.14156$$\n",
    "\n",
    "Значит, вероятность искомого события:\n",
    "$$1 - \\left(1 - \\frac{2 * \\binom{10}{10}}{2^{10}}\\right)^{1000} \\approx 0.85844$$"
   ],
   "metadata": {
    "collapsed": false
   }
  },
  {
   "cell_type": "markdown",
   "source": [
    "## Пункт 2\n",
    "Шанс выпадения монетки одной стороной определенной стороной (допустим орлом) 8 раз из 8 бросков для одного человека:\n",
    "$$\\frac{\\binom{8}{8}}{2^{8}} = \\frac{1}{256}$$\n",
    "\n",
    "Шанс выпадения монетки одной стороной 8 раз из 10 бросков для одного человека:\n",
    "$$2 * \\frac{1}{256} * \\binom{3}{1} = \\frac{3}{127}$$\n",
    "\n",
    "Тогда вероятность искомого события:\n",
    "$$1 - (1 - \\frac{3}{127})^{1000} \\approx 0.99999999996$$"
   ],
   "metadata": {
    "collapsed": false
   }
  },
  {
   "cell_type": "markdown",
   "source": [
    "## Пункт 3\n",
    "Шанс выпадения монетки одной стороной 10 раз для одного человека:\n",
    "$$\\frac{2 * \\binom{10}{10}}{2^{10}} = \\frac{1}{512}$$\n",
    "\n",
    "Тогда вероятность выпадения монетки одной стороной ровно у трех человек находится по формуле Бернулли:\n",
    "$$\\binom{1000}{3} * \\left(\\frac{1}{512}\\right)^{3} * \\left(1 - \\frac{1}{512}\\right)^{1000 - 3} \\approx 0.17629$$"
   ],
   "metadata": {
    "collapsed": false
   }
  }
 ]
}
