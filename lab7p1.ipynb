{
 "nbformat": 4,
 "nbformat_minor": 0,
 "metadata": {
  "colab": {
   "provenance": [],
   "include_colab_link": true
  },
  "kernelspec": {
   "display_name": "Python 3",
   "language": "python",
   "name": "python3"
  },
  "language_info": {
   "codemirror_mode": {
    "name": "ipython",
    "version": 3
   },
   "file_extension": ".py",
   "mimetype": "text/x-python",
   "name": "python",
   "nbconvert_exporter": "python",
   "pygments_lexer": "ipython3",
   "version": "3.6.5"
  },
  "accelerator": "GPU",
  "gpuClass": "standard"
 },
 "cells": [
  {
   "cell_type": "markdown",
   "metadata": {
    "id": "view-in-github",
    "colab_type": "text"
   },
   "source": [
    "<a href=\"https://colab.research.google.com/github/Patisson4/ML/blob/master/lab7p1.ipynb\" target=\"_parent\"><img src=\"https://colab.research.google.com/assets/colab-badge.svg\" alt=\"Open In Colab\"/></a>"
   ]
  },
  {
   "cell_type": "markdown",
   "metadata": {
    "id": "vcnGdgw_YJ8u"
   },
   "source": [
    "# PyTorch. Основы: синтаксис, torch.cuda и torch.autograd\n",
    "\n",
    "## Задание 7.1"
   ]
  },
  {
   "cell_type": "code",
   "metadata": {
    "id": "RtyozNmmYJ89"
   },
   "source": [
    "import torch\n",
    "import matplotlib.pyplot as plt"
   ],
   "execution_count": 1,
   "outputs": []
  },
  {
   "cell_type": "markdown",
   "metadata": {
    "id": "ny4-Qi2wYJ-6"
   },
   "source": [
    "### Задача 1"
   ]
  },
  {
   "cell_type": "markdown",
   "metadata": {
    "id": "IWxlFq0bYJ-_"
   },
   "source": [
    "1). Создайте два вещественных тензора: `a` размером (3, 4) и `b` размером (12,)   \n",
    "2). Создайте тензор `c`, являющийся тензором `b`, но размера (2, 2, 3)  \n",
    "3). Выведите первый столбец матрицы `a` с помощью индексации"
   ]
  },
  {
   "cell_type": "code",
   "metadata": {
    "id": "3oxZuk3yYJ_A",
    "colab": {
     "base_uri": "https://localhost:8080/"
    },
    "outputId": "5d08237a-a62b-4384-f3cf-cda1ab3a473f"
   },
   "source": [
    "a = torch.rand((3, 4), dtype=torch.float64)\n",
    "b = torch.rand((12,), dtype=torch.float64)\n",
    "\n",
    "a, b"
   ],
   "execution_count": 2,
   "outputs": [
    {
     "data": {
      "text/plain": "(tensor([[0.4869, 0.6541, 0.4019, 0.9323],\n         [0.4205, 0.0891, 0.1839, 0.2059],\n         [0.7869, 0.2162, 0.5754, 0.6368]], dtype=torch.float64),\n tensor([0.6926, 0.8021, 0.7214, 0.1376, 0.8245, 0.2412, 0.4710, 0.0031, 0.0639,\n         0.1740, 0.3996, 0.9700], dtype=torch.float64))"
     },
     "execution_count": 2,
     "metadata": {},
     "output_type": "execute_result"
    }
   ]
  },
  {
   "cell_type": "code",
   "source": [
    "c = b.reshape(2, 2, 3)\n",
    "\n",
    "c"
   ],
   "metadata": {
    "colab": {
     "base_uri": "https://localhost:8080/"
    },
    "id": "hZf_F9yCfLyk",
    "outputId": "140cb994-56aa-4af9-a39e-fe2f2d87d521"
   },
   "execution_count": 3,
   "outputs": [
    {
     "data": {
      "text/plain": "tensor([[[0.6926, 0.8021, 0.7214],\n         [0.1376, 0.8245, 0.2412]],\n\n        [[0.4710, 0.0031, 0.0639],\n         [0.1740, 0.3996, 0.9700]]], dtype=torch.float64)"
     },
     "execution_count": 3,
     "metadata": {},
     "output_type": "execute_result"
    }
   ]
  },
  {
   "cell_type": "code",
   "source": [
    "a[:, 0]"
   ],
   "metadata": {
    "colab": {
     "base_uri": "https://localhost:8080/"
    },
    "id": "Clh5LhdDfMr6",
    "outputId": "e12f31a7-7b21-471b-e12c-05e833f81273"
   },
   "execution_count": 4,
   "outputs": [
    {
     "data": {
      "text/plain": "tensor([0.4869, 0.4205, 0.7869], dtype=torch.float64)"
     },
     "execution_count": 4,
     "metadata": {},
     "output_type": "execute_result"
    }
   ]
  },
  {
   "cell_type": "markdown",
   "metadata": {
    "id": "D2IP_FrKYKAA"
   },
   "source": [
    "### Задача 2"
   ]
  },
  {
   "cell_type": "markdown",
   "metadata": {
    "id": "tBZFbSYQYKAA"
   },
   "source": [
    "1). Создайте два вещественных тензора: `a` размером (5, 2) и `b` размером (1,10)   \n",
    "2). Создайте тензор `c`, являющийся тензором `b`, но размера (5, 2)  \n",
    "3). Произведите все арифметические операции с тензорами `a` и `c`"
   ]
  },
  {
   "cell_type": "code",
   "metadata": {
    "id": "hzs2bH3GYKAB",
    "colab": {
     "base_uri": "https://localhost:8080/"
    },
    "outputId": "a19baf9b-5eef-436e-fb3c-b0641b1ce385"
   },
   "source": [
    "a = torch.rand((5, 2), dtype=torch.float64)\n",
    "b = torch.rand((1, 10), dtype=torch.float64)\n",
    "\n",
    "a, b"
   ],
   "execution_count": 5,
   "outputs": [
    {
     "data": {
      "text/plain": "(tensor([[0.6621, 0.9821],\n         [0.9910, 0.2361],\n         [0.5386, 0.7560],\n         [0.2897, 0.4101],\n         [0.2980, 0.8376]], dtype=torch.float64),\n tensor([[0.8764, 0.1823, 0.4730, 0.0398, 0.3928, 0.8311, 0.2381, 0.9389, 0.2650,\n          0.2463]], dtype=torch.float64))"
     },
     "execution_count": 5,
     "metadata": {},
     "output_type": "execute_result"
    }
   ]
  },
  {
   "cell_type": "code",
   "source": [
    "c = b.reshape((5, 2))"
   ],
   "metadata": {
    "id": "xoQEGYiOfZFc"
   },
   "execution_count": 6,
   "outputs": []
  },
  {
   "cell_type": "code",
   "source": [
    "torch.add(a, c)\n",
    "a"
   ],
   "metadata": {
    "colab": {
     "base_uri": "https://localhost:8080/"
    },
    "id": "AkEdjZuifbYo",
    "outputId": "67d61dc9-8334-46bb-9b38-cce9418d45a6"
   },
   "execution_count": 7,
   "outputs": [
    {
     "data": {
      "text/plain": "tensor([[0.6621, 0.9821],\n        [0.9910, 0.2361],\n        [0.5386, 0.7560],\n        [0.2897, 0.4101],\n        [0.2980, 0.8376]], dtype=torch.float64)"
     },
     "execution_count": 7,
     "metadata": {},
     "output_type": "execute_result"
    }
   ]
  },
  {
   "cell_type": "code",
   "source": [
    "torch.sub(a, c)\n",
    "a"
   ],
   "metadata": {
    "colab": {
     "base_uri": "https://localhost:8080/"
    },
    "id": "fRyafKP4feCU",
    "outputId": "693a997e-5b47-4143-cd8f-42b444b29dc6"
   },
   "execution_count": 8,
   "outputs": [
    {
     "data": {
      "text/plain": "tensor([[0.6621, 0.9821],\n        [0.9910, 0.2361],\n        [0.5386, 0.7560],\n        [0.2897, 0.4101],\n        [0.2980, 0.8376]], dtype=torch.float64)"
     },
     "execution_count": 8,
     "metadata": {},
     "output_type": "execute_result"
    }
   ]
  },
  {
   "cell_type": "code",
   "source": [
    "torch.matmul(a, c.T)"
   ],
   "metadata": {
    "colab": {
     "base_uri": "https://localhost:8080/"
    },
    "id": "e7R2NKOLffJU",
    "outputId": "e26547e9-75ee-4a5d-f0c6-c813076f6121"
   },
   "execution_count": 10,
   "outputs": [
    {
     "data": {
      "text/plain": "tensor([[0.7593, 0.3523, 1.0762, 1.0796, 0.4174],\n        [0.9116, 0.4782, 0.5855, 0.4576, 0.3208],\n        [0.6099, 0.2849, 0.8399, 0.8380, 0.3290],\n        [0.3287, 0.1534, 0.4547, 0.4540, 0.1778],\n        [0.4139, 0.1743, 0.8131, 0.8573, 0.2853]], dtype=torch.float64)"
     },
     "execution_count": 10,
     "metadata": {},
     "output_type": "execute_result"
    }
   ]
  },
  {
   "cell_type": "code",
   "source": [
    "torch.div(a, c)"
   ],
   "metadata": {
    "colab": {
     "base_uri": "https://localhost:8080/"
    },
    "id": "f8YtOeAmfiUn",
    "outputId": "2fbed532-c2d1-4a8a-ecc3-182a61f48225"
   },
   "execution_count": 11,
   "outputs": [
    {
     "data": {
      "text/plain": "tensor([[0.7555, 5.3862],\n        [2.0950, 5.9332],\n        [1.3713, 0.9097],\n        [1.2170, 0.4369],\n        [1.1243, 3.4001]], dtype=torch.float64)"
     },
     "execution_count": 11,
     "metadata": {},
     "output_type": "execute_result"
    }
   ]
  },
  {
   "cell_type": "markdown",
   "metadata": {
    "id": "rIaroFO6YKBT"
   },
   "source": [
    "### Задача 3"
   ]
  },
  {
   "cell_type": "markdown",
   "metadata": {
    "id": "GfLHVvKvYKBT"
   },
   "source": [
    "1). Создайте тензор *целых чисел* `images` размерности (100, 200, 200, 3) (можно интерпретировать это как 100 картинок размера 200х200 с тремя цветовыми каналами, то есть 100 цветных изображений 200х200). Заполните его нулями  \n",
    "\n",
    "2). Сделайте так, чтобы у $i$-ой по порядку картинки была нарисована белая полоса толщиной два пикселя в строках, которые соответствуют номеру картинки. Например, у 3-ей по порядку картинки белая полоска будет занимать 6 и 7 строки, у 99 - 198 и 199. Сделать белую строку можно, записав в ячейки тензора число 255 (по всем трём каналам). Выведите несколько примеров с помощью `pylot`  \n",
    "\n",
    "3). Посчитайте среднее тензора `images` по 1-ой оси (по сути - средняя картинка), умножьте полученный тензор на 70. Нарисуйте с помощью `pyplot`, должна получиться серая картинка (при взятии среднего нужно привести тензор к float с помощью `.float()`, при отрисовке обратно к int с помощью `.int()`)"
   ]
  },
  {
   "cell_type": "code",
   "metadata": {
    "id": "pZVGHEQQYKBU"
   },
   "source": [
    "images = torch.zeros((100, 200, 200, 3), dtype=torch.int)"
   ],
   "execution_count": 12,
   "outputs": []
  },
  {
   "cell_type": "code",
   "source": [
    "for i in range(images.shape[0]):\n",
    "    images[i, 2 * i : 2 * i + 2] = 255"
   ],
   "metadata": {
    "id": "1k_seL9AgLwX"
   },
   "execution_count": 13,
   "outputs": []
  },
  {
   "cell_type": "code",
   "source": [
    "plt.imshow(images[50])"
   ],
   "metadata": {
    "colab": {
     "base_uri": "https://localhost:8080/",
     "height": 286
    },
    "id": "r8q0_8EZgfV6",
    "outputId": "1dcbf6af-9413-484d-acee-82dfa8cf9961"
   },
   "execution_count": 15,
   "outputs": [
    {
     "output_type": "execute_result",
     "data": {
      "text/plain": [
       "<matplotlib.image.AxesImage at 0x7f0272de42b0>"
      ]
     },
     "metadata": {},
     "execution_count": 15
    },
    {
     "output_type": "display_data",
     "data": {
      "text/plain": [
       "<Figure size 432x288 with 1 Axes>"
      ],
      "image/png": "[encoded data removed]"
     },
     "metadata": {
      "needs_background": "light"
     }
    }
   ]
  },
  {
   "cell_type": "code",
   "source": [
    "plt.imshow((images.float().mean(0) * 70).int())"
   ],
   "metadata": {
    "colab": {
     "base_uri": "https://localhost:8080/",
     "height": 286
    },
    "id": "InmddihIgmuE",
    "outputId": "479c8760-7cd5-4989-eacc-4d445a1b9d65"
   },
   "execution_count": 16,
   "outputs": [
    {
     "output_type": "execute_result",
     "data": {
      "text/plain": [
       "<matplotlib.image.AxesImage at 0x7f02728ebac0>"
      ]
     },
     "metadata": {},
     "execution_count": 16
    },
    {
     "output_type": "display_data",
     "data": {
      "text/plain": [
       "<Figure size 432x288 with 1 Axes>"
      ],
      "image/png": "[encoded data removed]"
     },
     "metadata": {
      "needs_background": "light"
     }
    }
   ]
  },
  {
   "cell_type": "markdown",
   "metadata": {
    "id": "oQnhq5ZdYKCu"
   },
   "source": [
    "### Задача 4"
   ]
  },
  {
   "cell_type": "markdown",
   "metadata": {
    "id": "UB95BhgTYKCu"
   },
   "source": [
    "- В Colab нажмите в меню сверху: `Runtime` -> `Change Runtime Type` -> `GPU`, где изначально стоит `None` (`Среда выполнение` - `Сменить среду выполнения`)\n",
    "- Объявите тензор `a` размера (2, 3, 4) и тензор `b` размера (1, 8, 3) на GPU, иницилизируйте их случайно равномерно (`.uniform_()`)\n",
    "- Затем измените форму тензора `b`, чтобы она совпадала с формой тензора `a`, получите тензор `c`  \n",
    "- Переместите `c` на CPU, переместите `a` на CPU  \n",
    "- Оберните их в `Variable()`\n",
    "- Объявите тензор `L = torch.mean((c - a) `**` 2)` и посчитайте градиент `L` по `c` ( то есть $\\frac{\\partial{L}}{\\partial{c}})$\n",
    "- Выведите градиент `L` по `c`"
   ]
  },
  {
   "cell_type": "code",
   "metadata": {
    "id": "WESOm5TCYKCv",
    "colab": {
     "base_uri": "https://localhost:8080/"
    },
    "outputId": "f81a9aaf-d7f9-486c-b61f-9aef11aa167c"
   },
   "source": [
    "a = torch.rand((2, 3, 4), device='cuda')\n",
    "b = torch.rand((1, 8, 3), device='cuda')\n",
    "a = a.uniform_()\n",
    "b = b.uniform_()\n",
    "a, b"
   ],
   "execution_count": 26,
   "outputs": [
    {
     "output_type": "execute_result",
     "data": {
      "text/plain": [
       "(tensor([[[0.3795, 0.3579, 0.8087, 0.9004],\n",
       "          [0.3145, 0.0938, 0.2118, 0.5900],\n",
       "          [0.6845, 0.3368, 0.9643, 0.8805]],\n",
       " \n",
       "         [[0.5844, 0.8499, 0.0625, 0.7470],\n",
       "          [0.8123, 0.9976, 0.6591, 0.4372],\n",
       "          [0.8203, 0.8424, 0.2079, 0.6971]]], device='cuda:0'),\n",
       " tensor([[[0.4611, 0.8573, 0.3697],\n",
       "          [0.9782, 0.1035, 0.2527],\n",
       "          [0.9835, 0.1830, 0.9461],\n",
       "          [0.8689, 0.9179, 0.2834],\n",
       "          [0.5145, 0.1815, 0.9370],\n",
       "          [0.9558, 0.2821, 0.8544],\n",
       "          [0.6724, 0.8334, 0.7512],\n",
       "          [0.1247, 0.1539, 0.6167]]], device='cuda:0'))"
      ]
     },
     "metadata": {},
     "execution_count": 26
    }
   ]
  },
  {
   "cell_type": "code",
   "source": [
    "c = b.reshape(a.shape)\n",
    "\n",
    "a.shape, c.shape"
   ],
   "metadata": {
    "colab": {
     "base_uri": "https://localhost:8080/"
    },
    "id": "YJeccUhqhNzF",
    "outputId": "3b105792-c35a-49df-fe42-d9c3e73c90e3"
   },
   "execution_count": 21,
   "outputs": [
    {
     "output_type": "execute_result",
     "data": {
      "text/plain": [
       "(torch.Size([2, 3, 4]), torch.Size([2, 3, 4]))"
      ]
     },
     "metadata": {},
     "execution_count": 21
    }
   ]
  },
  {
   "cell_type": "code",
   "source": [
    "a = a.cpu()\n",
    "c = c.cpu()\n",
    "\n",
    "a.device, c.device"
   ],
   "metadata": {
    "colab": {
     "base_uri": "https://localhost:8080/"
    },
    "id": "yyiI5hhqhvuP",
    "outputId": "65753c3b-245d-465d-8964-dddfef959a37"
   },
   "execution_count": 22,
   "outputs": [
    {
     "output_type": "execute_result",
     "data": {
      "text/plain": [
       "(device(type='cpu'), device(type='cpu'))"
      ]
     },
     "metadata": {},
     "execution_count": 22
    }
   ]
  },
  {
   "cell_type": "code",
   "source": [
    "a = torch.autograd.Variable(a)\n",
    "c = torch.autograd.Variable(c, requires_grad=True)\n",
    "\n",
    "a, c"
   ],
   "metadata": {
    "colab": {
     "base_uri": "https://localhost:8080/"
    },
    "id": "cuVN6sD9hz-R",
    "outputId": "625930bc-6762-42fd-f3a2-0b5ee7a9fab9"
   },
   "execution_count": 23,
   "outputs": [
    {
     "output_type": "execute_result",
     "data": {
      "text/plain": [
       "(tensor([[[0.6753, 0.0529, 0.2255, 0.6469],\n",
       "          [0.6118, 0.1141, 0.6400, 0.1549],\n",
       "          [0.7851, 0.1987, 0.5647, 0.4806]],\n",
       " \n",
       "         [[0.2713, 0.5367, 0.1017, 0.4391],\n",
       "          [0.6423, 0.0190, 0.2758, 0.1417],\n",
       "          [0.0227, 0.1100, 0.3155, 0.9440]]]),\n",
       " tensor([[[0.2971, 0.6172, 0.1996, 0.4319],\n",
       "          [0.7183, 0.5708, 0.4332, 0.2861],\n",
       "          [0.1552, 0.3870, 0.0945, 0.2979]],\n",
       " \n",
       "         [[0.9732, 0.9964, 0.9104, 0.5176],\n",
       "          [0.5339, 0.0307, 0.6077, 0.1930],\n",
       "          [0.6328, 0.5535, 0.0214, 0.9021]]], requires_grad=True))"
      ]
     },
     "metadata": {},
     "execution_count": 23
    }
   ]
  },
  {
   "cell_type": "code",
   "source": [
    "L = torch.mean((c - a)**2)\n",
    "L.backward()"
   ],
   "metadata": {
    "id": "_HCuBSbRiAeB"
   },
   "execution_count": 24,
   "outputs": []
  },
  {
   "cell_type": "code",
   "source": [
    "c.grad"
   ],
   "metadata": {
    "colab": {
     "base_uri": "https://localhost:8080/"
    },
    "id": "7eG7iaWaiBAN",
    "outputId": "a7c24481-182a-412d-8c12-0e43a51cc175"
   },
   "execution_count": 25,
   "outputs": [
    {
     "output_type": "execute_result",
     "data": {
      "text/plain": [
       "tensor([[[-0.0315,  0.0470, -0.0022, -0.0179],\n",
       "         [ 0.0089,  0.0381, -0.0172,  0.0109],\n",
       "         [-0.0525,  0.0157, -0.0392, -0.0152]],\n",
       "\n",
       "        [[ 0.0585,  0.0383,  0.0674,  0.0065],\n",
       "         [-0.0090,  0.0010,  0.0277,  0.0043],\n",
       "         [ 0.0508,  0.0370, -0.0245, -0.0035]]])"
      ]
     },
     "metadata": {},
     "execution_count": 25
    }
   ]
  },
  {
   "cell_type": "markdown",
   "source": [],
   "metadata": {
    "id": "78ZPMXx-h1G9"
   }
  }
 ]
}
