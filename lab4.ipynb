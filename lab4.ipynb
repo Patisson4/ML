{
 "nbformat": 4,
 "nbformat_minor": 0,
 "metadata": {
  "colab": {
   "provenance": [],
   "toc_visible": true,
   "include_colab_link": true
  },
  "kernelspec": {
   "name": "python3",
   "display_name": "Python 3"
  }
 },
 "cells": [
  {
   "cell_type": "markdown",
   "metadata": {
    "id": "view-in-github",
    "colab_type": "text"
   },
   "source": [
    "<a href=\"https://colab.research.google.com/github/Patisson4/ML/blob/master/lab4.ipynb\" target=\"_parent\"><img src=\"https://colab.research.google.com/assets/colab-badge.svg\" alt=\"Open In Colab\"/></a>"
   ]
  },
  {
   "cell_type": "markdown",
   "metadata": {
    "id": "hGClrhQA9SAk"
   },
   "source": [
    "# Деревья решений"
   ]
  },
  {
   "cell_type": "markdown",
   "metadata": {
    "id": "veekMy8WRjBi"
   },
   "source": [
    "## Построение дерева"
   ]
  },
  {
   "cell_type": "markdown",
   "metadata": {
    "id": "SYkVwAFiUHXj"
   },
   "source": [
    "Опишем жадный алгоритм построения бинарного дерева решений:\n",
    "1. Начинаем со всей обучающей выборки $X$, которую помещаем в корень $R_1$. \n",
    "2. Задаём функционал качества $Q(X, j, t)$ и критерий остановки. \n",
    "3. Запускаем построение из корня: $SplitNode(1, R_1)$\n",
    "\n",
    "Функция $SplitNode(m, R_m)$\n",
    "1. Если выполнен критерий остановки, то выход.\n",
    "2. Находим наилучший с точки зрения $Q$ предикат: $j, t$: $[x_j<t]$\n",
    "3. Помещаем предикат в вкршину и получаем с его помощью разбиение $X$ на две части: $R_{left} = \\lbrace x|x_j<t \\rbrace$ и $R_{right} = \\lbrace x|x_j \\geqslant t \\rbrace$\n",
    "4. Поместим $R_{left}$ и $R_{right}$ соответсвенно в левое и правое поддерево.\n",
    "5. Рекурсивно повторяем $SplitNode(left, R_{left})$ и $SplitNode(right, R_{right})$.\n",
    "\n",
    "В конце поставим в соответствие каждому листу ответ. Для задачи классификации - это самый частый среди объектов класс или вектор с долями классов (можно интерпретировать как вероятности):\n",
    "$$ c_v = \\arg \\max_{k\\in Y} \\sum_{(x_i,y_i) \\in R_v} [y_i=k]  $$"
   ]
  },
  {
   "cell_type": "markdown",
   "metadata": {
    "id": "9P6FsdBog4Ai"
   },
   "source": [
    "## Функционал качества для деревьев решений\n"
   ]
  },
  {
   "cell_type": "markdown",
   "metadata": {
    "id": "9VAKO0aykGBD"
   },
   "source": [
    "Энтропия Шеннона для системы с N возможными состояниями определяется по формуле:\n",
    "$$H = - \\sum_{i=0}^{N} p_i\\log_2p_i $$"
   ]
  },
  {
   "cell_type": "markdown",
   "metadata": {
    "id": "5582B-1Fn2bw"
   },
   "source": [
    "где $p_i$ – вероятности нахождения системы в $i$-ом состоянии. \n",
    "\n",
    "Это очень важное понятие теории информации, которое позволяет оценить количество информации (степень хаоса в системе). Чем выше энтропия, тем менее упорядочена система и наоборот. С помощью энтропии мы формализуем функционал качества для разделение выборки (для задачи классификации)."
   ]
  },
  {
   "cell_type": "code",
   "metadata": {
    "id": "PbcMUd7bvk05"
   },
   "source": [
    "import numpy as np\n",
    "import pandas as pd\n",
    "\n",
    "import matplotlib.pyplot as plt\n",
    "\n",
    "import random\n",
    "from pprint import pprint"
   ],
   "execution_count": 5,
   "outputs": []
  },
  {
   "cell_type": "markdown",
   "metadata": {
    "id": "4AdLxP9CowTm"
   },
   "source": [
    "Код для расчёта энтропии:"
   ]
  },
  {
   "cell_type": "code",
   "metadata": {
    "id": "2mT8Jq8Av2sM"
   },
   "source": [
    "def entropy(y):\n",
    "    _, counts = np.unique(y, return_counts=True)\n",
    "\n",
    "    probabilities = counts / counts.sum()\n",
    "\n",
    "    return sum(probabilities * -np.log2(probabilities))"
   ],
   "execution_count": 88,
   "outputs": []
  },
  {
   "cell_type": "markdown",
   "metadata": {
    "id": "Xk9etb2vo7fK"
   },
   "source": [
    "Здесь $y$ - это массив значений целевой переменной"
   ]
  },
  {
   "cell_type": "markdown",
   "metadata": {
    "id": "07TCw0USzLus"
   },
   "source": [
    "Энтропия – по сути степень хаоса (или неопределенности) в системе. Уменьшение энтропии называют приростом информации (information gain, IG).\n",
    "\n",
    "Обочначим $R_v$ - объекты, которые нужно разделить в помощью предиката в вершине $v$. Запишем формулу для расчёта информационного прироста:\n",
    "$$ Q = IG = H(R_v) - (H(R_{left})+H(R_{right}))$$\n",
    "\n",
    "На каждом шаге нам нужно максимизировать этот функционал качества. Как это делать? Например, так можно перебрать $t$ для выбранного $j$."
   ]
  },
  {
   "cell_type": "markdown",
   "metadata": {
    "id": "trEWHDoXg_p9"
   },
   "source": [
    "Предыдущая версия формулы прироста информации слишком упрощена. В работе необходимо использовать более устойчивую формулу, которая учитывает не только энтропию подмножеств, но и их размер. \n",
    "\n",
    "$$ Q = IG = H(R_v) - \\Big (\\frac{|R_{left}|} {|R_{v}|} H(R_{left})+ \\frac{|R_{right}|} {|R_{v}|} H(R_{right})\\Big)$$\n",
    "\n",
    "где, $|R_{v}|$, $|R_{left}|$ и $|R_{right}|$ - количество элементов в соответствующих множествах."
   ]
  },
  {
   "cell_type": "markdown",
   "metadata": {
    "id": "9xmN6V_N1xBr"
   },
   "source": [
    "\n",
    "### Задание 4.1"
   ]
  },
  {
   "cell_type": "markdown",
   "metadata": {
    "id": "nWFHZScF2CBF"
   },
   "source": [
    "Реализуйте алгоритм построения дерева. Должны быть отдельные функции (методы) для расчёта энтропии (уже есть), для разделения дерева (используйте `pandas`), для подсчёта функционала качества $IG$, для выбора наилучшего разделения (с учетом признаков и порогов), для проверки критерия остановки.\n",
    "\n",
    "Для набора данных `iris` реализуйте алгоритм и минимум три разных критерия остановки из перечисленных ниже:\n",
    "* максимальной глубины дерева = 5\n",
    "* минимального числа объектов в листе = 5\n",
    "* максимальное количество листьев в дереве = 5\n",
    "* purity (остановка, если все объекты в листе относятся к одному классу)\n",
    "\n",
    "Реализуйте функцию `predict` (на вход функции подаётся датафрейм с объектами)\n",
    "\n",
    "Оцените точность каждой модели с помощью метрики доля правильных ответов (`from sklearn.metrics import accuracy_score` или реализовать свою)."
   ]
  },
  {
   "cell_type": "code",
   "execution_count": 89,
   "outputs": [],
   "source": [
    "class Node:\n",
    "    def __init__(self, depth=1, y=()):\n",
    "        self.depth = depth\n",
    "        self.y = y\n",
    "        self.threshold = -1\n",
    "        self.feature_index = -1\n",
    "        self.left = None\n",
    "        self.right = None"
   ],
   "metadata": {
    "collapsed": false
   }
  },
  {
   "cell_type": "code",
   "execution_count": 90,
   "outputs": [],
   "source": [
    "class TreeClassifier:\n",
    "    def __init__(self, max_tree_depth=0, min_object_per_leaf=0, max_leaves_int_tree=0):\n",
    "        self.root = None\n",
    "        self.leaves = 1\n",
    "        self.max_tree_depth = max_tree_depth\n",
    "        self.min_object_per_leaf = min_object_per_leaf\n",
    "        self.max_leaves_in_tree = max_leaves_int_tree\n",
    "\n",
    "    @staticmethod\n",
    "    def information_gain(r, left, right):\n",
    "        return entropy(r) - (len(left) / len(r) * entropy(left) +\n",
    "                             len(right) / len(r) * entropy(right))\n",
    "\n",
    "    def probabilities(self, y):\n",
    "        return np.array([len(y[y == y_type]) / len(y) for y_type in np.unique(self.root.y)])\n",
    "\n",
    "    def stop_criteria(self, node: Node):\n",
    "        return (node.depth >= self.max_tree_depth) and (self.max_tree_depth != 0) or (\n",
    "                len(node.y) <= self.min_object_per_leaf) and (self.max_tree_depth != 0) or (\n",
    "                       self.leaves > self.max_leaves_in_tree) and (self.max_leaves_in_tree != 0) or (\n",
    "                       len(np.unique(node.y)) == 1)\n",
    "\n",
    "    def split_node(self, node: Node, X):\n",
    "        if self.stop_criteria(node):\n",
    "            return\n",
    "\n",
    "        max_gain = None\n",
    "        index = 0\n",
    "        threshold = 0\n",
    "\n",
    "        for i in range(X.shape[1]):\n",
    "            for value in X[:, i]:\n",
    "                left = node.y[X[:, i] < value]\n",
    "                right = node.y[X[:, i] >= value]\n",
    "\n",
    "                if len(left) == 0 or len(right) == 0:\n",
    "                    continue\n",
    "\n",
    "                gain = TreeClassifier.information_gain(node.y, left, right)\n",
    "                if max_gain is None or gain > max_gain:\n",
    "                    max_gain = gain\n",
    "                    index = i\n",
    "                    threshold = value\n",
    "\n",
    "        node.threshold = threshold\n",
    "        node.feature_index = index\n",
    "        node.left = Node(node.depth + 1, node.y[X[:, index] < threshold])\n",
    "        node.right = Node(node.depth + 1, node.y[X[:, index] >= threshold])\n",
    "\n",
    "        self.leaves += 1\n",
    "        self.split_node(node.left, X[X[:, index] < threshold])\n",
    "        self.split_node(node.right, X[X[:, index] >= threshold])\n",
    "\n",
    "    def fit(self, X, y):\n",
    "        self.root = Node(y=y)\n",
    "        self.leaves = 1\n",
    "        self.split_node(self.root, X)\n",
    "\n",
    "    def predict(self, X):\n",
    "        result = []\n",
    "\n",
    "        for x in X:\n",
    "            node = self.root\n",
    "\n",
    "            while not (node.left is None and node.right is None):\n",
    "                if x[node.feature_index] <= node.threshold:\n",
    "                    node = node.left\n",
    "                else:\n",
    "                    node = node.right\n",
    "\n",
    "            result.append(np.argmax(self.probabilities(node.y)))\n",
    "\n",
    "        return result"
   ],
   "metadata": {
    "collapsed": false
   }
  },
  {
   "cell_type": "code",
   "execution_count": 91,
   "outputs": [
    {
     "name": "stdout",
     "output_type": "stream",
     "text": [
      "0.94\n"
     ]
    },
    {
     "data": {
      "text/plain": "<Figure size 432x288 with 1 Axes>",
      "image/png": "[encoded data removed]"
     },
     "metadata": {
      "needs_background": "light"
     },
     "output_type": "display_data"
    },
    {
     "name": "stdout",
     "output_type": "stream",
     "text": [
      "0.94\n"
     ]
    },
    {
     "data": {
      "text/plain": "<Figure size 432x288 with 1 Axes>",
      "image/png": "[encoded data removed]"
     },
     "metadata": {
      "needs_background": "light"
     },
     "output_type": "display_data"
    },
    {
     "name": "stdout",
     "output_type": "stream",
     "text": [
      "0.94\n"
     ]
    },
    {
     "data": {
      "text/plain": "<Figure size 432x288 with 1 Axes>",
      "image/png": "[encoded data removed]"
     },
     "metadata": {
      "needs_background": "light"
     },
     "output_type": "display_data"
    },
    {
     "name": "stdout",
     "output_type": "stream",
     "text": [
      "0.94\n"
     ]
    },
    {
     "data": {
      "text/plain": "<Figure size 432x288 with 1 Axes>",
      "image/png": "[encoded data removed]"
     },
     "metadata": {
      "needs_background": "light"
     },
     "output_type": "display_data"
    }
   ],
   "source": [
    "from sklearn import datasets\n",
    "from sklearn.model_selection import train_test_split\n",
    "from sklearn.metrics import accuracy_score\n",
    "\n",
    "\n",
    "def classify(classifier: TreeClassifier):\n",
    "    iris = datasets.load_iris()\n",
    "    X_train, X_test, y_train, y_test = train_test_split(iris.data, iris.target, test_size=0.33, random_state=42)\n",
    "\n",
    "    classifier.fit(X_train, y_train)\n",
    "    y_predicted = classifier.predict(X_test)\n",
    "    print(accuracy_score(y_test, y_predicted))\n",
    "\n",
    "    plt.scatter(X_test[:, 2], X_test[:, 3], c=y_predicted)\n",
    "    plt.title(\"Petal plot\")\n",
    "    plt.xlabel(\"Petal length\")\n",
    "    plt.ylabel(\"Petal width\")\n",
    "    plt.show()\n",
    "\n",
    "\n",
    "classify(TreeClassifier(max_tree_depth=5))\n",
    "classify(TreeClassifier(min_object_per_leaf=5))\n",
    "classify(TreeClassifier(max_leaves_int_tree=5))\n",
    "classify(TreeClassifier(5, 5, 5))"
   ],
   "metadata": {
    "collapsed": false
   }
  },
  {
   "cell_type": "markdown",
   "metadata": {
    "id": "BkyCjLcy_CTM"
   },
   "source": [
    "##  Случайный лес"
   ]
  },
  {
   "cell_type": "markdown",
   "metadata": {
    "id": "7fKZe1FyRgCa"
   },
   "source": [
    "Опишем алгоритм случайный лес (*random forest*) и попутно разберём основные идеи:\n",
    "\n",
    "1. Зададим $N$ - число деревьев в лесу.\n",
    "2. Для каждого $n$ из $N$ сгенерируем свою выборку $X_n$. Пусть $m$ - это количество объектов в $X$. При генерации каждой $X_n$ мы будем брать объекты $m$ раз с возвращением. То есть один и тот же объект может попасть в выборку несколько раз, а какие-то объекты не попадут. (Этот способ назвается бутстрап).\n",
    "3. По каждой $X_n$ построим решающее дерево $b_n$. Обычно стараются делать глубокие деревья. В качестве критериев остановки можно использовать `max_depth` или `min_samples_leaf` (например, пока в каждом листе не окажется по одному объекту). При каждом разбиении сначала выбирается $k$ (эвристика $k = \\sqrt d$, где $d$ - это число признаков объектов из выборки $X$) случайных признаков из исходных, и оптимальное разделение выборки ищется только среди них. Обратите внимание, что мы не выбрасываем оставшиеся признаки!\n",
    "4. Итоговый алгоритм будет представлять собой результат голосования (для классификации) и среднее арифметическое (для регрессии). Модификация алгоритма предполагает учёт весов каждого отдельного слабого алгоритма в ансамбле, но в этом особо нет смысла.\n"
   ]
  },
  {
   "cell_type": "markdown",
   "metadata": {
    "id": "YJBQ8lc0WyrN"
   },
   "source": [
    "### Задание 4.2"
   ]
  },
  {
   "cell_type": "markdown",
   "metadata": {
    "id": "y594Jn04ZTCm"
   },
   "source": [
    "В качестве набора данных используйте: https://www.kaggle.com/mathchi/churn-for-bank-customers\n",
    "\n",
    "Там есть описание и примеры работы с этими данными. Если кратко, речь идёт про задачу прогнозирования оттока клиентов. Есть данные о 10 тысячах клиентов банка, часть из которых больше не являются клиентами."
   ]
  },
  {
   "cell_type": "markdown",
   "metadata": {
    "id": "be_mLbdVW2oG"
   },
   "source": [
    "Используя либо свою реализацию, либо  `DecisionTreeClassifier` с разными настройками из `sklearn.tree` реализйте алгоритм \"случайный лес\". \n",
    "\n",
    "Найдите наилучшие гиперпараметры этого алгоритма: количество деревьев, критерий остановки, функционал качества, минимальное количество объектов в листьях и другие.\n",
    "\n",
    "Нельзя использовать готовую реализацию случайного леса из `sklearn`.\n",
    "\n",
    "В подобных задачах очень важна интерпретируемость алгоритма. Попытайтесь оценить информативность признаков, т.е. ответить а вопрос, значения каких признаков являются самыми важными индикаторами того, что банк потеряет клиента."
   ]
  },
  {
   "cell_type": "code",
   "execution_count": 92,
   "outputs": [
    {
     "name": "stdout",
     "output_type": "stream",
     "text": [
      "Collecting opendatasets\n",
      "  Downloading opendatasets-0.1.22-py3-none-any.whl (15 kB)\n",
      "Collecting kaggle\n",
      "  Downloading kaggle-1.5.12.tar.gz (58 kB)\n"
     ]
    },
    {
     "name": "stderr",
     "output_type": "stream",
     "text": [
      "WARNING: You are using pip version 20.2.3; however, version 22.3.1 is available.\n",
      "You should consider upgrading via the 'c:\\users\\mdpol\\appdata\\local\\programs\\python\\python39\\python.exe -m pip install --upgrade pip' command.\n"
     ]
    },
    {
     "name": "stdout",
     "output_type": "stream",
     "text": [
      "Requirement already satisfied: tqdm in c:\\users\\mdpol\\appdata\\local\\programs\\python\\python39\\lib\\site-packages (from opendatasets) (4.64.1)\n",
      "Requirement already satisfied: click in c:\\users\\mdpol\\appdata\\local\\programs\\python\\python39\\lib\\site-packages (from opendatasets) (8.0.3)\n",
      "Requirement already satisfied: six>=1.10 in c:\\users\\mdpol\\appdata\\local\\programs\\python\\python39\\lib\\site-packages (from kaggle->opendatasets) (1.12.0)\n",
      "Requirement already satisfied: certifi in c:\\users\\mdpol\\appdata\\local\\programs\\python\\python39\\lib\\site-packages (from kaggle->opendatasets) (2021.10.8)\n",
      "Requirement already satisfied: python-dateutil in c:\\users\\mdpol\\appdata\\local\\programs\\python\\python39\\lib\\site-packages (from kaggle->opendatasets) (2.8.1)\n",
      "Requirement already satisfied: requests in c:\\users\\mdpol\\appdata\\local\\programs\\python\\python39\\lib\\site-packages (from kaggle->opendatasets) (2.28.1)\n",
      "Collecting python-slugify\n",
      "  Downloading python_slugify-6.1.2-py2.py3-none-any.whl (9.4 kB)\n",
      "Requirement already satisfied: urllib3 in c:\\users\\mdpol\\appdata\\local\\programs\\python\\python39\\lib\\site-packages (from kaggle->opendatasets) (1.26.9)\n",
      "Requirement already satisfied: colorama; platform_system == \"Windows\" in c:\\users\\mdpol\\appdata\\local\\programs\\python\\python39\\lib\\site-packages (from tqdm->opendatasets) (0.4.4)\n",
      "Requirement already satisfied: idna<4,>=2.5 in c:\\users\\mdpol\\appdata\\local\\programs\\python\\python39\\lib\\site-packages (from requests->kaggle->opendatasets) (3.3)\n",
      "Requirement already satisfied: charset-normalizer<3,>=2 in c:\\users\\mdpol\\appdata\\local\\programs\\python\\python39\\lib\\site-packages (from requests->kaggle->opendatasets) (2.1.1)\n",
      "Collecting text-unidecode>=1.3\n",
      "  Downloading text_unidecode-1.3-py2.py3-none-any.whl (78 kB)\n",
      "Using legacy 'setup.py install' for kaggle, since package 'wheel' is not installed.\n",
      "Installing collected packages: text-unidecode, python-slugify, kaggle, opendatasets\n",
      "    Running setup.py install for kaggle: started\n",
      "    Running setup.py install for kaggle: finished with status 'done'\n",
      "Successfully installed kaggle-1.5.12 opendatasets-0.1.22 python-slugify-6.1.2 text-unidecode-1.3\n"
     ]
    },
    {
     "name": "stderr",
     "output_type": "stream",
     "text": [
      "WARNING: You are using pip version 20.2.3; however, version 22.3.1 is available.\n",
      "You should consider upgrading via the 'c:\\users\\mdpol\\appdata\\local\\programs\\python\\python39\\python.exe -m pip install --upgrade pip' command.\n"
     ]
    },
    {
     "name": "stdout",
     "output_type": "stream",
     "text": [
      "Collecting category_encoders\n",
      "  Downloading category_encoders-2.5.1.post0-py2.py3-none-any.whl (72 kB)\n",
      "Requirement already satisfied: patsy>=0.5.1 in c:\\users\\mdpol\\appdata\\local\\programs\\python\\python39\\lib\\site-packages (from category_encoders) (0.5.2)\n",
      "Requirement already satisfied: scipy>=1.0.0 in c:\\users\\mdpol\\appdata\\local\\programs\\python\\python39\\lib\\site-packages (from category_encoders) (1.7.3)\n",
      "Requirement already satisfied: pandas>=1.0.5 in c:\\users\\mdpol\\appdata\\local\\programs\\python\\python39\\lib\\site-packages (from category_encoders) (1.4.2)\n",
      "Requirement already satisfied: scikit-learn>=0.20.0 in c:\\users\\mdpol\\appdata\\local\\programs\\python\\python39\\lib\\site-packages (from category_encoders) (1.1.3)\n",
      "Requirement already satisfied: statsmodels>=0.9.0 in c:\\users\\mdpol\\appdata\\local\\programs\\python\\python39\\lib\\site-packages (from category_encoders) (0.13.2)\n",
      "Requirement already satisfied: numpy>=1.14.0 in c:\\users\\mdpol\\appdata\\local\\programs\\python\\python39\\lib\\site-packages (from category_encoders) (1.20.3)\n",
      "Requirement already satisfied: six in c:\\users\\mdpol\\appdata\\local\\programs\\python\\python39\\lib\\site-packages (from patsy>=0.5.1->category_encoders) (1.12.0)\n",
      "Requirement already satisfied: pytz>=2020.1 in c:\\users\\mdpol\\appdata\\local\\programs\\python\\python39\\lib\\site-packages (from pandas>=1.0.5->category_encoders) (2022.1)\n",
      "Requirement already satisfied: python-dateutil>=2.8.1 in c:\\users\\mdpol\\appdata\\local\\programs\\python\\python39\\lib\\site-packages (from pandas>=1.0.5->category_encoders) (2.8.1)\n",
      "Requirement already satisfied: joblib>=1.0.0 in c:\\users\\mdpol\\appdata\\local\\programs\\python\\python39\\lib\\site-packages (from scikit-learn>=0.20.0->category_encoders) (1.2.0)\n",
      "Requirement already satisfied: threadpoolctl>=2.0.0 in c:\\users\\mdpol\\appdata\\local\\programs\\python\\python39\\lib\\site-packages (from scikit-learn>=0.20.0->category_encoders) (3.1.0)\n",
      "Requirement already satisfied: packaging>=21.3 in c:\\users\\mdpol\\appdata\\local\\programs\\python\\python39\\lib\\site-packages (from statsmodels>=0.9.0->category_encoders) (21.3)\n",
      "Requirement already satisfied: pyparsing!=3.0.5,>=2.0.2 in c:\\users\\mdpol\\appdata\\local\\programs\\python\\python39\\lib\\site-packages (from packaging>=21.3->statsmodels>=0.9.0->category_encoders) (2.4.7)\n",
      "Installing collected packages: category-encoders\n",
      "Successfully installed category-encoders-2.5.1.post0\n"
     ]
    }
   ],
   "source": [
    "!pip install opendatasets\n",
    "!pip install category_encoders"
   ],
   "metadata": {
    "collapsed": false
   }
  },
  {
   "cell_type": "code",
   "execution_count": 6,
   "outputs": [
    {
     "name": "stdout",
     "output_type": "stream",
     "text": [
      "Skipping, found downloaded files in \".\\churn-for-bank-customers\" (use force=True to force download)\n"
     ]
    },
    {
     "data": {
      "text/plain": "   RowNumber  CustomerId   Surname  CreditScore Geography  Gender  Age  \\\n0          1    15634602  Hargrave          619    France  Female   42   \n1          2    15647311      Hill          608     Spain  Female   41   \n2          3    15619304      Onio          502    France  Female   42   \n3          4    15701354      Boni          699    France  Female   39   \n4          5    15737888  Mitchell          850     Spain  Female   43   \n5          6    15574012       Chu          645     Spain    Male   44   \n6          7    15592531  Bartlett          822    France    Male   50   \n7          8    15656148    Obinna          376   Germany  Female   29   \n8          9    15792365        He          501    France    Male   44   \n9         10    15592389        H?          684    France    Male   27   \n\n   Tenure    Balance  NumOfProducts  HasCrCard  IsActiveMember  \\\n0       2       0.00              1          1               1   \n1       1   83807.86              1          0               1   \n2       8  159660.80              3          1               0   \n3       1       0.00              2          0               0   \n4       2  125510.82              1          1               1   \n5       8  113755.78              2          1               0   \n6       7       0.00              2          1               1   \n7       4  115046.74              4          1               0   \n8       4  142051.07              2          0               1   \n9       2  134603.88              1          1               1   \n\n   EstimatedSalary  Exited  \n0        101348.88       1  \n1        112542.58       0  \n2        113931.57       1  \n3         93826.63       0  \n4         79084.10       0  \n5        149756.71       1  \n6         10062.80       0  \n7        119346.88       1  \n8         74940.50       0  \n9         71725.73       0  ",
      "text/html": "<div>\n<style scoped>\n    .dataframe tbody tr th:only-of-type {\n        vertical-align: middle;\n    }\n\n    .dataframe tbody tr th {\n        vertical-align: top;\n    }\n\n    .dataframe thead th {\n        text-align: right;\n    }\n</style>\n<table border=\"1\" class=\"dataframe\">\n  <thead>\n    <tr style=\"text-align: right;\">\n      <th></th>\n      <th>RowNumber</th>\n      <th>CustomerId</th>\n      <th>Surname</th>\n      <th>CreditScore</th>\n      <th>Geography</th>\n      <th>Gender</th>\n      <th>Age</th>\n      <th>Tenure</th>\n      <th>Balance</th>\n      <th>NumOfProducts</th>\n      <th>HasCrCard</th>\n      <th>IsActiveMember</th>\n      <th>EstimatedSalary</th>\n      <th>Exited</th>\n    </tr>\n  </thead>\n  <tbody>\n    <tr>\n      <th>0</th>\n      <td>1</td>\n      <td>15634602</td>\n      <td>Hargrave</td>\n      <td>619</td>\n      <td>France</td>\n      <td>Female</td>\n      <td>42</td>\n      <td>2</td>\n      <td>0.00</td>\n      <td>1</td>\n      <td>1</td>\n      <td>1</td>\n      <td>101348.88</td>\n      <td>1</td>\n    </tr>\n    <tr>\n      <th>1</th>\n      <td>2</td>\n      <td>15647311</td>\n      <td>Hill</td>\n      <td>608</td>\n      <td>Spain</td>\n      <td>Female</td>\n      <td>41</td>\n      <td>1</td>\n      <td>83807.86</td>\n      <td>1</td>\n      <td>0</td>\n      <td>1</td>\n      <td>112542.58</td>\n      <td>0</td>\n    </tr>\n    <tr>\n      <th>2</th>\n      <td>3</td>\n      <td>15619304</td>\n      <td>Onio</td>\n      <td>502</td>\n      <td>France</td>\n      <td>Female</td>\n      <td>42</td>\n      <td>8</td>\n      <td>159660.80</td>\n      <td>3</td>\n      <td>1</td>\n      <td>0</td>\n      <td>113931.57</td>\n      <td>1</td>\n    </tr>\n    <tr>\n      <th>3</th>\n      <td>4</td>\n      <td>15701354</td>\n      <td>Boni</td>\n      <td>699</td>\n      <td>France</td>\n      <td>Female</td>\n      <td>39</td>\n      <td>1</td>\n      <td>0.00</td>\n      <td>2</td>\n      <td>0</td>\n      <td>0</td>\n      <td>93826.63</td>\n      <td>0</td>\n    </tr>\n    <tr>\n      <th>4</th>\n      <td>5</td>\n      <td>15737888</td>\n      <td>Mitchell</td>\n      <td>850</td>\n      <td>Spain</td>\n      <td>Female</td>\n      <td>43</td>\n      <td>2</td>\n      <td>125510.82</td>\n      <td>1</td>\n      <td>1</td>\n      <td>1</td>\n      <td>79084.10</td>\n      <td>0</td>\n    </tr>\n    <tr>\n      <th>5</th>\n      <td>6</td>\n      <td>15574012</td>\n      <td>Chu</td>\n      <td>645</td>\n      <td>Spain</td>\n      <td>Male</td>\n      <td>44</td>\n      <td>8</td>\n      <td>113755.78</td>\n      <td>2</td>\n      <td>1</td>\n      <td>0</td>\n      <td>149756.71</td>\n      <td>1</td>\n    </tr>\n    <tr>\n      <th>6</th>\n      <td>7</td>\n      <td>15592531</td>\n      <td>Bartlett</td>\n      <td>822</td>\n      <td>France</td>\n      <td>Male</td>\n      <td>50</td>\n      <td>7</td>\n      <td>0.00</td>\n      <td>2</td>\n      <td>1</td>\n      <td>1</td>\n      <td>10062.80</td>\n      <td>0</td>\n    </tr>\n    <tr>\n      <th>7</th>\n      <td>8</td>\n      <td>15656148</td>\n      <td>Obinna</td>\n      <td>376</td>\n      <td>Germany</td>\n      <td>Female</td>\n      <td>29</td>\n      <td>4</td>\n      <td>115046.74</td>\n      <td>4</td>\n      <td>1</td>\n      <td>0</td>\n      <td>119346.88</td>\n      <td>1</td>\n    </tr>\n    <tr>\n      <th>8</th>\n      <td>9</td>\n      <td>15792365</td>\n      <td>He</td>\n      <td>501</td>\n      <td>France</td>\n      <td>Male</td>\n      <td>44</td>\n      <td>4</td>\n      <td>142051.07</td>\n      <td>2</td>\n      <td>0</td>\n      <td>1</td>\n      <td>74940.50</td>\n      <td>0</td>\n    </tr>\n    <tr>\n      <th>9</th>\n      <td>10</td>\n      <td>15592389</td>\n      <td>H?</td>\n      <td>684</td>\n      <td>France</td>\n      <td>Male</td>\n      <td>27</td>\n      <td>2</td>\n      <td>134603.88</td>\n      <td>1</td>\n      <td>1</td>\n      <td>1</td>\n      <td>71725.73</td>\n      <td>0</td>\n    </tr>\n  </tbody>\n</table>\n</div>"
     },
     "execution_count": 6,
     "metadata": {},
     "output_type": "execute_result"
    }
   ],
   "source": [
    "import opendatasets as od\n",
    "from sklearn import datasets\n",
    "from sklearn.model_selection import train_test_split\n",
    "from sklearn.metrics import accuracy_score\n",
    "\n",
    "od.download(\"https://www.kaggle.com/datasets/mathchi/churn-for-bank-customers?resource=download\")\n",
    "churn_raw = pd.read_csv('churn-for-bank-customers/churn.csv')\n",
    "\n",
    "churn_raw.head(10)"
   ],
   "metadata": {
    "collapsed": false
   }
  },
  {
   "cell_type": "code",
   "execution_count": null,
   "outputs": [],
   "source": [
    "!pip install category_encoders"
   ],
   "metadata": {
    "collapsed": false,
    "pycharm": {
     "is_executing": true
    }
   }
  },
  {
   "cell_type": "code",
   "execution_count": 8,
   "outputs": [
    {
     "name": "stdout",
     "output_type": "stream",
     "text": [
      "Warning: No categorical columns found. Calling 'transform' will only return input data.\n",
      "Warning: No categorical columns found. Calling 'transform' will only return input data.\n"
     ]
    },
    {
     "name": "stderr",
     "output_type": "stream",
     "text": [
      "C:\\Users\\mdpol\\AppData\\Local\\Programs\\Python\\Python310\\lib\\site-packages\\category_encoders\\target_encoder.py:122: FutureWarning: Default parameter min_samples_leaf will change in version 2.6.See https://github.com/scikit-learn-contrib/category_encoders/issues/327\n",
      "  warnings.warn(\"Default parameter min_samples_leaf will change in version 2.6.\"\n",
      "C:\\Users\\mdpol\\AppData\\Local\\Programs\\Python\\Python310\\lib\\site-packages\\category_encoders\\target_encoder.py:127: FutureWarning: Default parameter smoothing will change in version 2.6.See https://github.com/scikit-learn-contrib/category_encoders/issues/327\n",
      "  warnings.warn(\"Default parameter smoothing will change in version 2.6.\"\n",
      "C:\\Users\\mdpol\\AppData\\Local\\Programs\\Python\\Python310\\lib\\site-packages\\category_encoders\\target_encoder.py:122: FutureWarning: Default parameter min_samples_leaf will change in version 2.6.See https://github.com/scikit-learn-contrib/category_encoders/issues/327\n",
      "  warnings.warn(\"Default parameter min_samples_leaf will change in version 2.6.\"\n",
      "C:\\Users\\mdpol\\AppData\\Local\\Programs\\Python\\Python310\\lib\\site-packages\\category_encoders\\target_encoder.py:127: FutureWarning: Default parameter smoothing will change in version 2.6.See https://github.com/scikit-learn-contrib/category_encoders/issues/327\n",
      "  warnings.warn(\"Default parameter smoothing will change in version 2.6.\"\n"
     ]
    }
   ],
   "source": [
    "from category_encoders import TargetEncoder\n",
    "from sklearn.tree import DecisionTreeClassifier\n",
    "\n",
    "churn_target = churn_raw.Exited\n",
    "churn_raw.Gender = TargetEncoder().fit_transform(churn_raw.Gender, churn_target)\n",
    "churn_raw.Geography = TargetEncoder().fit_transform(churn_raw.Geography, churn_target)\n",
    "churn_data = churn_raw.drop([\"RowNumber\", \"Surname\", \"CustomerId\", \"Exited\"], axis=1)\n",
    "X_train, X_test, y_train, y_test = train_test_split(churn_data, churn_target, test_size=0.3, random_state=42)"
   ],
   "metadata": {
    "collapsed": false
   }
  },
  {
   "cell_type": "code",
   "execution_count": 9,
   "outputs": [],
   "source": [
    "class ForestClassifier:\n",
    "    def __init__(self, tree_count=100, max_depth=5, min_samples_split=5):\n",
    "        self.trees = []\n",
    "\n",
    "        self.tree_count = tree_count\n",
    "        self.max_depth = max_depth\n",
    "        self.min_samples_split = min_samples_split\n",
    "\n",
    "    def fit(self, X_train, y_train):\n",
    "        k = int(np.sqrt(X_train.shape[1]))\n",
    "\n",
    "        for i in range(self.tree_count):\n",
    "            tree = DecisionTreeClassifier(max_features=k, max_depth=self.max_depth,\n",
    "                                          min_samples_split=self.min_samples_split)\n",
    "            tree.fit(X_train.sample(n=len(X_train), random_state=i, replace=True), y_train.sample(n=len(y_train), random_state=i, replace=True))\n",
    "\n",
    "            self.trees.append(tree)\n",
    "\n",
    "    def predict(self, X_test):\n",
    "        results = []\n",
    "\n",
    "        for tree in self.trees:\n",
    "            results.append(tree.predict(X_test))\n",
    "\n",
    "        results = pd.DataFrame(data=results)\n",
    "        return round(results.mean())\n",
    "\n",
    "    def feature_importance(self):\n",
    "        results = []\n",
    "\n",
    "        for tree in self.trees:\n",
    "            results.append(tree.feature_importances_)\n",
    "\n",
    "        results = pd.DataFrame(data=results)\n",
    "        return results.mean()"
   ],
   "metadata": {
    "collapsed": false
   }
  },
  {
   "cell_type": "code",
   "execution_count": 12,
   "outputs": [
    {
     "name": "stdout",
     "output_type": "stream",
     "text": [
      "Performed in 2.1154184000042733\n",
      "Performed in 1.9466757999907713\n",
      "Performed in 1.7028385999728926\n",
      "Performed in 2.016248400002951\n",
      "Performed in 2.3120330999954604\n",
      "Performed in 2.5719269000110216\n",
      "Performed in 1.9021978999953717\n",
      "Performed in 1.887314299994614\n",
      "Performed in 2.0472883000038564\n",
      "Performed in 2.5724512000160757\n",
      "Performed in 2.0371756999811623\n",
      "Performed in 2.1252184999757446\n",
      "Performed in 2.3920551000046544\n",
      "Performed in 2.0597488000057638\n",
      "Performed in 2.003444700007094\n",
      "Performed in 2.1695050000271294\n",
      "Performed in 2.2373491000034846\n",
      "Performed in 2.0950672999897506\n",
      "Performed in 2.217662200011546\n",
      "Performed in 2.3156047000084072\n",
      "Performed in 2.2924225000024308\n",
      "Performed in 2.315501700009918\n",
      "Performed in 2.430035500001395\n",
      "Performed in 2.423625399998855\n",
      "Performed in 2.3136291000118945\n",
      "Performed in 2.609066399978474\n",
      "Performed in 2.5468992999813054\n",
      "Performed in 4.536816600011662\n",
      "Performed in 4.590328599995701\n",
      "Performed in 4.88220839999849\n",
      "Performed in 4.867527599999448\n",
      "Performed in 4.874613599997247\n",
      "Performed in 4.718982199992752\n",
      "Performed in 4.81043410001439\n",
      "Performed in 4.919960200000787\n",
      "Performed in 4.789597399998456\n",
      "Performed in 4.9842516999924555\n",
      "Performed in 5.079620100004831\n",
      "Performed in 4.8449171999818645\n",
      "Performed in 5.594109300000127\n",
      "Performed in 5.298431800008984\n",
      "Performed in 5.214606800000183\n",
      "Performed in 5.652874799998244\n",
      "Performed in 6.272315300011542\n",
      "Performed in 5.761144099989906\n",
      "Performed in 5.443456499982858\n",
      "Performed in 6.242792199976975\n",
      "Performed in 7.911126700026216\n",
      "Performed in 5.972951300005661\n",
      "Performed in 6.844318999996176\n",
      "Performed in 6.302994199999375\n",
      "Performed in 10.915124299994204\n",
      "Performed in 7.918883500009542\n",
      "Performed in 6.770724600006361\n",
      "Performed in 9.951008100004401\n",
      "Performed in 9.261702500021784\n",
      "Performed in 8.825650100014172\n",
      "Performed in 10.056947800010676\n",
      "Performed in 9.407994900015183\n",
      "Performed in 10.258056599996053\n",
      "Performed in 9.954340500000399\n",
      "Performed in 9.717725100024836\n",
      "Performed in 9.79072979997727\n",
      "Performed in 10.553678600001149\n",
      "Performed in 10.314136100001633\n",
      "Performed in 10.291463500005193\n",
      "Performed in 11.495016600005329\n",
      "Performed in 10.889494000002742\n",
      "Performed in 11.054438099992694\n",
      "Performed in 11.666221100022085\n",
      "Performed in 10.903287699999055\n",
      "Performed in 11.24508490000153\n",
      "Performed in 15.417586800002027\n",
      "Performed in 17.017043100000592\n",
      "Performed in 18.45511200002511\n",
      "Performed in 21.030423399992287\n",
      "Performed in 20.225825699977577\n",
      "Performed in 15.226844999997411\n",
      "Performed in 19.08144879998872\n",
      "Performed in 15.475092200009385\n",
      "Performed in 14.746618300006958\n"
     ]
    }
   ],
   "source": [
    "from time import perf_counter\n",
    "\n",
    "best_score = 0\n",
    "best_tree_count = 0\n",
    "best_max_depth = 0\n",
    "best_min_samples_split = 0\n",
    "\n",
    "for tree_count in [100, 250, 500]:\n",
    "    for max_depth in range(1, 10):\n",
    "        for min_samples_split in range(2, 5):\n",
    "            start = perf_counter()\n",
    "            forest = ForestClassifier(tree_count, max_depth, min_samples_split)\n",
    "            forest.fit(X_train, y_train)\n",
    "\n",
    "            predicted = forest.predict(X_test)\n",
    "            score = accuracy_score(y_test, predicted)\n",
    "\n",
    "            if score > best_score:\n",
    "                best_score = score\n",
    "                best_tree_count = tree_count\n",
    "                best_max_depth = max_depth\n",
    "                best_min_samples_split = min_samples_split\n",
    "\n",
    "            print(f\"Performed in {perf_counter() - start}\")"
   ],
   "metadata": {
    "collapsed": false
   }
  },
  {
   "cell_type": "code",
   "execution_count": 22,
   "outputs": [
    {
     "name": "stdout",
     "output_type": "stream",
     "text": [
      "Лучшие параметры:\n",
      "best_score = 0.8683333333333333\n",
      "best_tree_count = 500\n",
      "best_max_depth = 8\n",
      "best_min_samples_split = 2\n"
     ]
    }
   ],
   "source": [
    "print(\"Лучшие параметры:\", f\"best_score = {best_score}\", f\"best_tree_count = {best_tree_count}\",\n",
    "      f\"best_max_depth = {best_max_depth}\", f\"best_min_samples_split = {best_min_samples_split}\", sep='\\n')"
   ],
   "metadata": {
    "collapsed": false
   }
  },
  {
   "cell_type": "markdown",
   "source": [],
   "metadata": {
    "collapsed": false
   }
  },
  {
   "cell_type": "code",
   "execution_count": 16,
   "outputs": [
    {
     "data": {
      "text/plain": "0.8666666666666667"
     },
     "execution_count": 16,
     "metadata": {},
     "output_type": "execute_result"
    }
   ],
   "source": [
    "random_forest = ForestClassifier(best_tree_count, best_max_depth, best_min_samples_split)\n",
    "random_forest.fit(X_train, y_train)\n",
    "\n",
    "predicted = random_forest.predict(X_test)\n",
    "accuracy_score(y_test, predicted)"
   ],
   "metadata": {
    "collapsed": false
   }
  },
  {
   "cell_type": "code",
   "execution_count": 17,
   "outputs": [
    {
     "data": {
      "text/plain": "           Feature Importance\n3              Age    0.36994\n6    NumOfProducts   0.291944\n8   IsActiveMember   0.089651\n5          Balance   0.079045\n1        Geography   0.056669\n0      CreditScore   0.038401\n9  EstimatedSalary   0.035085\n4           Tenure    0.01869\n2           Gender   0.016779\n7        HasCrCard   0.003795",
      "text/html": "<div>\n<style scoped>\n    .dataframe tbody tr th:only-of-type {\n        vertical-align: middle;\n    }\n\n    .dataframe tbody tr th {\n        vertical-align: top;\n    }\n\n    .dataframe thead th {\n        text-align: right;\n    }\n</style>\n<table border=\"1\" class=\"dataframe\">\n  <thead>\n    <tr style=\"text-align: right;\">\n      <th></th>\n      <th>Feature</th>\n      <th>Importance</th>\n    </tr>\n  </thead>\n  <tbody>\n    <tr>\n      <th>3</th>\n      <td>Age</td>\n      <td>0.36994</td>\n    </tr>\n    <tr>\n      <th>6</th>\n      <td>NumOfProducts</td>\n      <td>0.291944</td>\n    </tr>\n    <tr>\n      <th>8</th>\n      <td>IsActiveMember</td>\n      <td>0.089651</td>\n    </tr>\n    <tr>\n      <th>5</th>\n      <td>Balance</td>\n      <td>0.079045</td>\n    </tr>\n    <tr>\n      <th>1</th>\n      <td>Geography</td>\n      <td>0.056669</td>\n    </tr>\n    <tr>\n      <th>0</th>\n      <td>CreditScore</td>\n      <td>0.038401</td>\n    </tr>\n    <tr>\n      <th>9</th>\n      <td>EstimatedSalary</td>\n      <td>0.035085</td>\n    </tr>\n    <tr>\n      <th>4</th>\n      <td>Tenure</td>\n      <td>0.01869</td>\n    </tr>\n    <tr>\n      <th>2</th>\n      <td>Gender</td>\n      <td>0.016779</td>\n    </tr>\n    <tr>\n      <th>7</th>\n      <td>HasCrCard</td>\n      <td>0.003795</td>\n    </tr>\n  </tbody>\n</table>\n</div>"
     },
     "execution_count": 17,
     "metadata": {},
     "output_type": "execute_result"
    }
   ],
   "source": [
    "pd.DataFrame(data=np.c_[X_test.columns, random_forest.feature_importance()],\n",
    "             columns=[\"Feature\", \"Importance\"]).sort_values(\n",
    "    by=\"Importance\", ascending=False)"
   ],
   "metadata": {
    "collapsed": false
   }
  },
  {
   "cell_type": "markdown",
   "source": [
    "Самыми важными признаками оказались возраст клиента и количество продуктов"
   ],
   "metadata": {
    "collapsed": false
   }
  }
 ]
}
